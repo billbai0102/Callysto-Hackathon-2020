{
 "cells": [
  {
   "cell_type": "code",
   "execution_count": 36,
   "metadata": {
    "collapsed": true
   },
   "outputs": [],
   "source": [
    "import yaml\n",
    "import numpy as np\n",
    "import pandas as pd\n",
    "import seaborn as sns\n",
    "import plotly.express as px\n",
    "import matplotlib.pyplot as plt\n",
    "import plotly.graph_objects as go\n",
    "\n",
    "sns.set(rc={'figure.figsize': (15, 9)})"
   ]
  },
  {
   "cell_type": "markdown",
   "source": [
    "1. What food do we need to bring?\n",
    "        e.g. trees, seeds, genetically-modified foods\n",
    "2. How do we feed people there?\n",
    "        Consider: supply, manage, distribute, connect\n",
    "7. What are essential key resources?\n",
    "        e.g. Electricity, oxygen, water, fuel, brick, plastics, steel, food.\n",
    "4. How do we decide who will go?\n",
    "        e.g. population proportions, demographics, health, qualifications, genetic diversity\n",
    "5. What forms of entertainment would people need?\n",
    "        e.g. music, books, pets, lego\n",
    "6. What machines do we need?\n",
    "        e.g. cars, ships, fighter jets, rockets, computers, mobile phones."
   ],
   "metadata": {
    "collapsed": false,
    "pycharm": {
     "name": "#%% md\n"
    }
   }
  },
  {
   "cell_type": "markdown",
   "source": [
    "- UN Total Population Data\n",
    "https://population.un.org/wpp/Download/Standard/CSV/\n",
    "<br>\n",
    "- https://www.kaggle.com/shivamb/netflix-shows"
   ],
   "metadata": {
    "collapsed": false,
    "pycharm": {
     "name": "#%% md\n"
    }
   }
  },
  {
   "cell_type": "code",
   "execution_count": 2,
   "outputs": [],
   "source": [
    "# open fake_countries.yaml file, which contains non-real countries\n",
    "with open('./data/fake_countries.yaml') as f:\n",
    "    fake_countries = yaml.safe_load(f)['fake_countries']\n",
    "\n",
    "# paths to the datasets\n",
    "fertility_data = './data/WPP2019_Fertility_by_Age.csv'\n",
    "period_indicator_data = './data/WPP2019_Period_Indicators_Medium.csv'\n",
    "\n",
    "# load datasets in DataFrames\n",
    "fertility_df = pd.read_csv(fertility_data)\n",
    "period_indicator_df = pd.read_csv(period_indicator_data)"
   ],
   "metadata": {
    "collapsed": false,
    "pycharm": {
     "name": "#%%\n"
    }
   }
  },
  {
   "cell_type": "code",
   "execution_count": 3,
   "outputs": [
    {
     "data": {
      "text/plain": "   LocID     Location  VarID Variant       Time  MidPeriod AgeGrp  \\\n0      4  Afghanistan      2  Medium  1950-1955       1953  15-19   \n1      4  Afghanistan      2  Medium  1950-1955       1953  20-24   \n2      4  Afghanistan      2  Medium  1950-1955       1953  25-29   \n3      4  Afghanistan      2  Medium  1950-1955       1953  30-34   \n4      4  Afghanistan      2  Medium  1950-1955       1953  35-39   \n\n   AgeGrpStart  AgeGrpSpan     ASFR   PASFR   Births  \n0           15           5  145.245   9.748  280.906  \n1           20           5  313.809  21.061  522.501  \n2           25           5  339.005  22.752  481.946  \n3           30           5  290.535  19.499  351.097  \n4           35           5  233.111  15.645  238.645  ",
      "text/html": "<div>\n<style scoped>\n    .dataframe tbody tr th:only-of-type {\n        vertical-align: middle;\n    }\n\n    .dataframe tbody tr th {\n        vertical-align: top;\n    }\n\n    .dataframe thead th {\n        text-align: right;\n    }\n</style>\n<table border=\"1\" class=\"dataframe\">\n  <thead>\n    <tr style=\"text-align: right;\">\n      <th></th>\n      <th>LocID</th>\n      <th>Location</th>\n      <th>VarID</th>\n      <th>Variant</th>\n      <th>Time</th>\n      <th>MidPeriod</th>\n      <th>AgeGrp</th>\n      <th>AgeGrpStart</th>\n      <th>AgeGrpSpan</th>\n      <th>ASFR</th>\n      <th>PASFR</th>\n      <th>Births</th>\n    </tr>\n  </thead>\n  <tbody>\n    <tr>\n      <th>0</th>\n      <td>4</td>\n      <td>Afghanistan</td>\n      <td>2</td>\n      <td>Medium</td>\n      <td>1950-1955</td>\n      <td>1953</td>\n      <td>15-19</td>\n      <td>15</td>\n      <td>5</td>\n      <td>145.245</td>\n      <td>9.748</td>\n      <td>280.906</td>\n    </tr>\n    <tr>\n      <th>1</th>\n      <td>4</td>\n      <td>Afghanistan</td>\n      <td>2</td>\n      <td>Medium</td>\n      <td>1950-1955</td>\n      <td>1953</td>\n      <td>20-24</td>\n      <td>20</td>\n      <td>5</td>\n      <td>313.809</td>\n      <td>21.061</td>\n      <td>522.501</td>\n    </tr>\n    <tr>\n      <th>2</th>\n      <td>4</td>\n      <td>Afghanistan</td>\n      <td>2</td>\n      <td>Medium</td>\n      <td>1950-1955</td>\n      <td>1953</td>\n      <td>25-29</td>\n      <td>25</td>\n      <td>5</td>\n      <td>339.005</td>\n      <td>22.752</td>\n      <td>481.946</td>\n    </tr>\n    <tr>\n      <th>3</th>\n      <td>4</td>\n      <td>Afghanistan</td>\n      <td>2</td>\n      <td>Medium</td>\n      <td>1950-1955</td>\n      <td>1953</td>\n      <td>30-34</td>\n      <td>30</td>\n      <td>5</td>\n      <td>290.535</td>\n      <td>19.499</td>\n      <td>351.097</td>\n    </tr>\n    <tr>\n      <th>4</th>\n      <td>4</td>\n      <td>Afghanistan</td>\n      <td>2</td>\n      <td>Medium</td>\n      <td>1950-1955</td>\n      <td>1953</td>\n      <td>35-39</td>\n      <td>35</td>\n      <td>5</td>\n      <td>233.111</td>\n      <td>15.645</td>\n      <td>238.645</td>\n    </tr>\n  </tbody>\n</table>\n</div>"
     },
     "execution_count": 3,
     "metadata": {},
     "output_type": "execute_result"
    }
   ],
   "source": [
    "# get an insight into the fertility dataset\n",
    "fertility_df.head()"
   ],
   "metadata": {
    "collapsed": false,
    "pycharm": {
     "name": "#%%\n"
    }
   }
  },
  {
   "cell_type": "code",
   "execution_count": 4,
   "outputs": [
    {
     "data": {
      "text/plain": "[Text(0, 0.5, 'Percentage Age-Specific Fertility Rate'),\n Text(0.5, 0, 'Age Group'),\n Text(0.5, 1.0, 'Fertility Between Age Groups(2020)')]"
     },
     "execution_count": 4,
     "metadata": {},
     "output_type": "execute_result"
    },
    {
     "data": {
      "text/plain": "<Figure size 1080x648 with 1 Axes>",
      "image/png": "[encoded data removed]"
     },
     "metadata": {},
     "output_type": "display_data"
    }
   ],
   "source": [
    "# get all unique age groups\n",
    "age_groups = fertility_df['AgeGrp'].unique()\n",
    "\n",
    "# create a new DataFrame of fertility rates for every age group, for 2015-2020\n",
    "fertility_2018_df = fertility_df.loc[fertility_df['MidPeriod'] == 2018][['PASFR', 'AgeGrp']]\n",
    "\n",
    "# get the mean PASFR of each age group\n",
    "avg_br = fertility_2018_df.groupby('AgeGrp')['PASFR'].mean().reset_index()\n",
    "\n",
    "# plot average fertility rates for each age group\n",
    "ax = sns.barplot(x='AgeGrp', y='PASFR', data=avg_br)\n",
    "ax.set(xlabel='Age Group', ylabel='Percentage Age-Specific Fertility Rate', title='Fertility Between Age Groups(2020)')"
   ],
   "metadata": {
    "collapsed": false,
    "pycharm": {
     "name": "#%%\n"
    }
   }
  },
  {
   "cell_type": "code",
   "execution_count": 5,
   "outputs": [
    {
     "name": "stdout",
     "output_type": "stream",
     "text": [
      "Most fertile countries: ['Tajikistan', 'Mali', 'United Republic of Tanzania', 'Zambia', 'Mozambique', 'Guinea', 'Senegal', 'Comoros', \"Côte d'Ivoire\", 'Liberia']\n"
     ]
    },
    {
     "data": {
      "text/plain": "<matplotlib.legend.Legend at 0x212f579cf88>"
     },
     "execution_count": 5,
     "metadata": {},
     "output_type": "execute_result"
    },
    {
     "data": {
      "text/plain": "<Figure size 1080x648 with 1 Axes>",
      "image/png": "[encoded data removed]"
     },
     "metadata": {},
     "output_type": "display_data"
    }
   ],
   "source": [
    "\"\"\"\n",
    "custom aggregation function to find countries with the fastest (projected)\n",
    "growing fertility rates\n",
    "\n",
    ":param series: Series object containing PASFR data for each country\n",
    "\"\"\"\n",
    "def greatest_fertility(series):\n",
    "    # placeholder values for the lowest, highest, and current fertility rate\n",
    "    low = float('inf')\n",
    "    high =  float('-inf')\n",
    "    current = series.iloc[-1]\n",
    "\n",
    "    # finds country with highest growing fertility rates\n",
    "    for pasfr in series:\n",
    "        if pasfr < low:\n",
    "            low = pasfr\n",
    "        elif pasfr > high:\n",
    "            high = pasfr\n",
    "\n",
    "    # return value if growth rate is increasing, -inf if growth rate is decreasing\n",
    "    return (current - low) if high <= current else (float('-inf'))\n",
    "\n",
    "# Create DataFrame where AgeGrp is 25-29 (the most fertile age group)\n",
    "fertility_growth_df = fertility_df.loc[fertility_df['AgeGrpStart'] == 25]\n",
    "\n",
    "# Groups and aggregates values for each country - sorts countries in order of fastest growing fertility rates\n",
    "fertility_growth_df = fertility_growth_df.reset_index().groupby('Location')[['PASFR']]\\\n",
    "    .agg(greatest_fertility).reset_index().sort_values(by=['PASFR'], ascending=False).set_index('Location')\n",
    "\n",
    "# drops all fake countries from the DataFrame\n",
    "fertility_growth_df.drop(fake_countries, inplace=True)\n",
    "\n",
    "# extract the top 10 fastest growing fertility rates\n",
    "fertile_10_countries = list(fertility_growth_df.index[:10])\n",
    "print(f'Most fertile countries: {fertile_10_countries}')\n",
    "\n",
    "# Creates DataFrame with data of the top 10 fastest growing fertility rate countries\n",
    "fertile_10_countries_df = fertility_df.loc[(fertility_df['Location'].isin(fertile_10_countries) == True)&(fertility_df['AgeGrpStart']==25)]\n",
    "\n",
    "# plot\n",
    "fig, ax = plt.subplots()\n",
    "for country in fertile_10_countries:\n",
    "    graph = sns.lineplot(x='MidPeriod', y='PASFR', data=fertile_10_countries_df.loc[fertile_10_countries_df.Location==country], ax=ax, ci=0)\n",
    "graph.set(xlabel='Year', ylabel='Percentage Age-Specific Fertility Rate', title='10 Fastest Projected Fertility Growth Rates')\n",
    "ax.legend(fertile_10_countries, loc='upper left')"
   ],
   "metadata": {
    "collapsed": false,
    "pycharm": {
     "name": "#%%\n"
    }
   }
  },
  {
   "cell_type": "code",
   "execution_count": 6,
   "outputs": [
    {
     "data": {
      "text/plain": "             LocID  VarID Variant       Time  MidPeriod    TFR    NRR     CBR  \\\nLocation                                                                        \nAfghanistan      4      2  Medium  1950-1955       1953  7.450  1.636  50.314   \nAfghanistan      4      2  Medium  1955-1960       1958  7.450  1.765  50.998   \nAfghanistan      4      2  Medium  1960-1965       1963  7.450  1.899  51.477   \nAfghanistan      4      2  Medium  1965-1970       1968  7.450  2.017  51.646   \nAfghanistan      4      2  Medium  1970-1975       1973  7.450  2.141  51.234   \n...            ...    ...     ...        ...        ...    ...    ...     ...   \nZimbabwe       716      2  Medium  2075-2080       2078  1.913  0.919  14.153   \nZimbabwe       716      2  Medium  2080-2085       2083  1.877  0.903  13.429   \nZimbabwe       716      2  Medium  2085-2090       2088  1.849  0.891  12.867   \nZimbabwe       716      2  Medium  2090-2095       2093  1.831  0.883  12.492   \nZimbabwe       716      2  Medium  2095-2100       2098  1.816  0.876  12.194   \n\n               Births    LEx  ...     CDR    Deaths  DeathsMale  DeathsFemale  \\\nLocation                      ...                                               \nAfghanistan  2015.476  28.61  ...  36.862  1476.605     794.020       682.585   \nAfghanistan  2201.589  31.13  ...  33.718  1455.605     783.110       672.495   \nAfghanistan  2439.130  33.74  ...  30.808  1459.784     777.437       682.347   \nAfghanistan  2728.221  36.15  ...  28.223  1490.896     790.745       700.151   \nAfghanistan  3056.451  38.74  ...  25.495  1520.938     802.414       718.524   \n...               ...    ...  ...     ...       ...         ...           ...   \nZimbabwe     2100.753  72.09  ...   9.407  1396.229     729.240       666.989   \nZimbabwe     2030.941  72.73  ...  10.001  1512.603     794.805       717.798   \nZimbabwe     1970.518  73.36  ...  10.631  1627.991     853.756       774.235   \nZimbabwe     1926.925  74.00  ...  11.191  1726.185     899.147       827.038   \nZimbabwe     1886.759  74.66  ...  11.611  1796.481     927.691       868.790   \n\n              CNMR  NetMigrations  GrowthRate  NatIncr    SRB     MAC  \nLocation                                                               \nAfghanistan -0.499          -20.0       1.296   13.452  1.060  29.835  \nAfghanistan -0.463          -20.0       1.683   17.280  1.060  29.835  \nAfghanistan -0.422          -20.0       2.026   20.669  1.060  29.835  \nAfghanistan -0.379          -20.0       2.307   23.423  1.060  29.835  \nAfghanistan -0.335          -20.0       2.544   25.739  1.060  29.835  \n...            ...            ...         ...      ...    ...     ...  \nZimbabwe    -0.337          -50.0       0.441    4.746  1.021  29.872  \nZimbabwe    -0.331          -50.0       0.310    3.428  1.021  29.984  \nZimbabwe    -0.326          -50.0       0.191    2.236  1.021  30.094  \nZimbabwe    -0.324          -50.0       0.098    1.301  1.021  30.201  \nZimbabwe    -0.323          -50.0       0.026    0.583  1.021  30.307  \n\n[12150 rows x 24 columns]",
      "text/html": "<div>\n<style scoped>\n    .dataframe tbody tr th:only-of-type {\n        vertical-align: middle;\n    }\n\n    .dataframe tbody tr th {\n        vertical-align: top;\n    }\n\n    .dataframe thead th {\n        text-align: right;\n    }\n</style>\n<table border=\"1\" class=\"dataframe\">\n  <thead>\n    <tr style=\"text-align: right;\">\n      <th></th>\n      <th>LocID</th>\n      <th>VarID</th>\n      <th>Variant</th>\n      <th>Time</th>\n      <th>MidPeriod</th>\n      <th>TFR</th>\n      <th>NRR</th>\n      <th>CBR</th>\n      <th>Births</th>\n      <th>LEx</th>\n      <th>...</th>\n      <th>CDR</th>\n      <th>Deaths</th>\n      <th>DeathsMale</th>\n      <th>DeathsFemale</th>\n      <th>CNMR</th>\n      <th>NetMigrations</th>\n      <th>GrowthRate</th>\n      <th>NatIncr</th>\n      <th>SRB</th>\n      <th>MAC</th>\n    </tr>\n    <tr>\n      <th>Location</th>\n      <th></th>\n      <th></th>\n      <th></th>\n      <th></th>\n      <th></th>\n      <th></th>\n      <th></th>\n      <th></th>\n      <th></th>\n      <th></th>\n      <th></th>\n      <th></th>\n      <th></th>\n      <th></th>\n      <th></th>\n      <th></th>\n      <th></th>\n      <th></th>\n      <th></th>\n      <th></th>\n      <th></th>\n    </tr>\n  </thead>\n  <tbody>\n    <tr>\n      <th>Afghanistan</th>\n      <td>4</td>\n      <td>2</td>\n      <td>Medium</td>\n      <td>1950-1955</td>\n      <td>1953</td>\n      <td>7.450</td>\n      <td>1.636</td>\n      <td>50.314</td>\n      <td>2015.476</td>\n      <td>28.61</td>\n      <td>...</td>\n      <td>36.862</td>\n      <td>1476.605</td>\n      <td>794.020</td>\n      <td>682.585</td>\n      <td>-0.499</td>\n      <td>-20.0</td>\n      <td>1.296</td>\n      <td>13.452</td>\n      <td>1.060</td>\n      <td>29.835</td>\n    </tr>\n    <tr>\n      <th>Afghanistan</th>\n      <td>4</td>\n      <td>2</td>\n      <td>Medium</td>\n      <td>1955-1960</td>\n      <td>1958</td>\n      <td>7.450</td>\n      <td>1.765</td>\n      <td>50.998</td>\n      <td>2201.589</td>\n      <td>31.13</td>\n      <td>...</td>\n      <td>33.718</td>\n      <td>1455.605</td>\n      <td>783.110</td>\n      <td>672.495</td>\n      <td>-0.463</td>\n      <td>-20.0</td>\n      <td>1.683</td>\n      <td>17.280</td>\n      <td>1.060</td>\n      <td>29.835</td>\n    </tr>\n    <tr>\n      <th>Afghanistan</th>\n      <td>4</td>\n      <td>2</td>\n      <td>Medium</td>\n      <td>1960-1965</td>\n      <td>1963</td>\n      <td>7.450</td>\n      <td>1.899</td>\n      <td>51.477</td>\n      <td>2439.130</td>\n      <td>33.74</td>\n      <td>...</td>\n      <td>30.808</td>\n      <td>1459.784</td>\n      <td>777.437</td>\n      <td>682.347</td>\n      <td>-0.422</td>\n      <td>-20.0</td>\n      <td>2.026</td>\n      <td>20.669</td>\n      <td>1.060</td>\n      <td>29.835</td>\n    </tr>\n    <tr>\n      <th>Afghanistan</th>\n      <td>4</td>\n      <td>2</td>\n      <td>Medium</td>\n      <td>1965-1970</td>\n      <td>1968</td>\n      <td>7.450</td>\n      <td>2.017</td>\n      <td>51.646</td>\n      <td>2728.221</td>\n      <td>36.15</td>\n      <td>...</td>\n      <td>28.223</td>\n      <td>1490.896</td>\n      <td>790.745</td>\n      <td>700.151</td>\n      <td>-0.379</td>\n      <td>-20.0</td>\n      <td>2.307</td>\n      <td>23.423</td>\n      <td>1.060</td>\n      <td>29.835</td>\n    </tr>\n    <tr>\n      <th>Afghanistan</th>\n      <td>4</td>\n      <td>2</td>\n      <td>Medium</td>\n      <td>1970-1975</td>\n      <td>1973</td>\n      <td>7.450</td>\n      <td>2.141</td>\n      <td>51.234</td>\n      <td>3056.451</td>\n      <td>38.74</td>\n      <td>...</td>\n      <td>25.495</td>\n      <td>1520.938</td>\n      <td>802.414</td>\n      <td>718.524</td>\n      <td>-0.335</td>\n      <td>-20.0</td>\n      <td>2.544</td>\n      <td>25.739</td>\n      <td>1.060</td>\n      <td>29.835</td>\n    </tr>\n    <tr>\n      <th>...</th>\n      <td>...</td>\n      <td>...</td>\n      <td>...</td>\n      <td>...</td>\n      <td>...</td>\n      <td>...</td>\n      <td>...</td>\n      <td>...</td>\n      <td>...</td>\n      <td>...</td>\n      <td>...</td>\n      <td>...</td>\n      <td>...</td>\n      <td>...</td>\n      <td>...</td>\n      <td>...</td>\n      <td>...</td>\n      <td>...</td>\n      <td>...</td>\n      <td>...</td>\n      <td>...</td>\n    </tr>\n    <tr>\n      <th>Zimbabwe</th>\n      <td>716</td>\n      <td>2</td>\n      <td>Medium</td>\n      <td>2075-2080</td>\n      <td>2078</td>\n      <td>1.913</td>\n      <td>0.919</td>\n      <td>14.153</td>\n      <td>2100.753</td>\n      <td>72.09</td>\n      <td>...</td>\n      <td>9.407</td>\n      <td>1396.229</td>\n      <td>729.240</td>\n      <td>666.989</td>\n      <td>-0.337</td>\n      <td>-50.0</td>\n      <td>0.441</td>\n      <td>4.746</td>\n      <td>1.021</td>\n      <td>29.872</td>\n    </tr>\n    <tr>\n      <th>Zimbabwe</th>\n      <td>716</td>\n      <td>2</td>\n      <td>Medium</td>\n      <td>2080-2085</td>\n      <td>2083</td>\n      <td>1.877</td>\n      <td>0.903</td>\n      <td>13.429</td>\n      <td>2030.941</td>\n      <td>72.73</td>\n      <td>...</td>\n      <td>10.001</td>\n      <td>1512.603</td>\n      <td>794.805</td>\n      <td>717.798</td>\n      <td>-0.331</td>\n      <td>-50.0</td>\n      <td>0.310</td>\n      <td>3.428</td>\n      <td>1.021</td>\n      <td>29.984</td>\n    </tr>\n    <tr>\n      <th>Zimbabwe</th>\n      <td>716</td>\n      <td>2</td>\n      <td>Medium</td>\n      <td>2085-2090</td>\n      <td>2088</td>\n      <td>1.849</td>\n      <td>0.891</td>\n      <td>12.867</td>\n      <td>1970.518</td>\n      <td>73.36</td>\n      <td>...</td>\n      <td>10.631</td>\n      <td>1627.991</td>\n      <td>853.756</td>\n      <td>774.235</td>\n      <td>-0.326</td>\n      <td>-50.0</td>\n      <td>0.191</td>\n      <td>2.236</td>\n      <td>1.021</td>\n      <td>30.094</td>\n    </tr>\n    <tr>\n      <th>Zimbabwe</th>\n      <td>716</td>\n      <td>2</td>\n      <td>Medium</td>\n      <td>2090-2095</td>\n      <td>2093</td>\n      <td>1.831</td>\n      <td>0.883</td>\n      <td>12.492</td>\n      <td>1926.925</td>\n      <td>74.00</td>\n      <td>...</td>\n      <td>11.191</td>\n      <td>1726.185</td>\n      <td>899.147</td>\n      <td>827.038</td>\n      <td>-0.324</td>\n      <td>-50.0</td>\n      <td>0.098</td>\n      <td>1.301</td>\n      <td>1.021</td>\n      <td>30.201</td>\n    </tr>\n    <tr>\n      <th>Zimbabwe</th>\n      <td>716</td>\n      <td>2</td>\n      <td>Medium</td>\n      <td>2095-2100</td>\n      <td>2098</td>\n      <td>1.816</td>\n      <td>0.876</td>\n      <td>12.194</td>\n      <td>1886.759</td>\n      <td>74.66</td>\n      <td>...</td>\n      <td>11.611</td>\n      <td>1796.481</td>\n      <td>927.691</td>\n      <td>868.790</td>\n      <td>-0.323</td>\n      <td>-50.0</td>\n      <td>0.026</td>\n      <td>0.583</td>\n      <td>1.021</td>\n      <td>30.307</td>\n    </tr>\n  </tbody>\n</table>\n<p>12150 rows × 24 columns</p>\n</div>"
     },
     "execution_count": 6,
     "metadata": {},
     "output_type": "execute_result"
    }
   ],
   "source": [
    "# set index to the Location column for easy data access\n",
    "period_indicator_df.set_index('Location', inplace=True)\n",
    "\n",
    "# drop all fake countries from the dataset\n",
    "period_indicator_df.drop(fake_countries, inplace=True)\n",
    "\n",
    "# get an insight into the DataFrame\n",
    "period_indicator_df"
   ],
   "metadata": {
    "collapsed": false,
    "pycharm": {
     "name": "#%%\n"
    }
   }
  },
  {
   "cell_type": "code",
   "execution_count": 7,
   "outputs": [
    {
     "data": {
      "text/plain": "<Figure size 1080x648 with 1 Axes>",
      "image/png": "[encoded data removed]"
     },
     "metadata": {},
     "output_type": "display_data"
    }
   ],
   "source": [
    "# create DataFrame grouped by country with lowest infant mortality rates\n",
    "nrr_projected_df = period_indicator_df.loc[period_indicator_df['MidPeriod']==2018].groupby(['Location'])['IMR'].mean()\\\n",
    "    .reset_index().sort_values(by='IMR', ascending=True).reset_index()\n",
    "\n",
    "# plot countries with lowest IMRs\n",
    "ax = sns.barplot('Location', 'IMR', data=nrr_projected_df[:8])"
   ],
   "metadata": {
    "collapsed": false,
    "pycharm": {
     "name": "#%%\n"
    }
   }
  },
  {
   "cell_type": "code",
   "execution_count": 8,
   "outputs": [
    {
     "name": "stdout",
     "output_type": "stream",
     "text": [
      "Top 5 countries with fertile people, and also low infant mortality: \n",
      "['Tajikistan', 'Philippines', 'Grenada', \"Côte d'Ivoire\", 'Qatar', 'Malawi', 'Iran (Islamic Republic of)', 'Mali', 'Mozambique', 'Guinea']\n"
     ]
    }
   ],
   "source": [
    "\"\"\"\n",
    "function that merges countries with fastest growing fertility rates and countries with lowest IMRs\n",
    "to get countries with fast growing fertility rates AND low IMRs\n",
    "\n",
    ":param imr: Countries with lowest IMR\n",
    ":param fertile: Countries with fastest growing fertility rates\n",
    ":param num_top: Number of countries to return\n",
    "\"\"\"\n",
    "def get_top_fertile_imr(imr, fertile, num_top):\n",
    "    # placeholder list for top countries\n",
    "    top_countries = []\n",
    "    imr_i, imr_range = 0, 0\n",
    "    fertile_i= 0\n",
    "\n",
    "    # loops through all countries until top_countries list is full\n",
    "    while len(top_countries) < num_top:\n",
    "        nrr_range = 0\n",
    "        top_country = None\n",
    "\n",
    "        # finds\n",
    "        for i in range(len(fertile)):\n",
    "            if imr[imr_i] == fertile[i]:\n",
    "                top_country = imr[i]\n",
    "                nrr_range = i\n",
    "                break\n",
    "\n",
    "        for i in range(len(imr)):\n",
    "            if fertile[fertile_i] == imr[i]:\n",
    "                if i <= nrr_range:\n",
    "                    top_country = fertile[fertile_i]\n",
    "                    fertile_i += 1\n",
    "                else:\n",
    "                    imr_i += 1\n",
    "\n",
    "        top_countries.append(top_country)\n",
    "\n",
    "    return top_countries\n",
    "\n",
    "top_nrr = nrr_projected_df.set_index('Location').index\n",
    "top_fertility = fertility_growth_df.index\n",
    "\n",
    "fertile_nrr_countries = get_top_fertile_imr(list(top_nrr), list(top_fertility), 10)\n",
    "print(f'Top 5 countries with fertile people, and also low infant mortality: \\n{fertile_nrr_countries}')"
   ],
   "metadata": {
    "collapsed": false,
    "pycharm": {
     "name": "#%%\n"
    }
   }
  },
  {
   "cell_type": "code",
   "execution_count": 9,
   "outputs": [
    {
     "data": {
      "text/plain": "<Figure size 1080x648 with 1 Axes>",
      "image/png": "[encoded data removed]"
     },
     "metadata": {},
     "output_type": "display_data"
    }
   ],
   "source": [
    "fertile_nrr_countries.append('United States of America')\n",
    "nrr_top10 = period_indicator_df.loc[period_indicator_df['MidPeriod']>=2018].groupby(['Location'])['IMR'].mean()\\\n",
    "    .reset_index().sort_values(by='IMR', ascending=True).reset_index()\n",
    "ax = sns.barplot('Location', 'IMR', data=nrr_top10.loc[nrr_top10['Location'].isin(fertile_nrr_countries)][:5])"
   ],
   "metadata": {
    "collapsed": false,
    "pycharm": {
     "name": "#%%\n"
    }
   }
  },
  {
   "cell_type": "code",
   "execution_count": 10,
   "outputs": [],
   "source": [
    "imdb_movies_data = './data/entertainment_data/IMDb movies.csv'\n",
    "imdb_ratings_data = './data/entertainment_data/IMDb ratings.csv'\n",
    "\n",
    "imdb_movies_df = pd.read_csv(imdb_movies_data)\n",
    "imdb_ratings_df = pd.read_csv(imdb_ratings_data)"
   ],
   "metadata": {
    "collapsed": false,
    "pycharm": {
     "name": "#%%\n"
    }
   }
  },
  {
   "cell_type": "code",
   "execution_count": 11,
   "outputs": [
    {
     "data": {
      "text/plain": "  imdb_title_id                                              title  \\\n0     tt0000574                        The Story of the Kelly Gang   \n1     tt0001892                                     Den sorte drøm   \n2     tt0002101                                          Cleopatra   \n3     tt0002130                                          L'Inferno   \n4     tt0002199  From the Manger to the Cross; or, Jesus of Naz...   \n\n                                      original_title  year date_published  \\\n0                        The Story of the Kelly Gang  1906     1906-12-26   \n1                                     Den sorte drøm  1911     1911-08-19   \n2                                          Cleopatra  1912     1912-11-13   \n3                                          L'Inferno  1911     1911-03-06   \n4  From the Manger to the Cross; or, Jesus of Naz...  1912           1913   \n\n                       genre  duration           country language  \\\n0    Biography, Crime, Drama        70         Australia      NaN   \n1                      Drama        53  Germany, Denmark      NaN   \n2             Drama, History       100               USA  English   \n3  Adventure, Drama, Fantasy        68             Italy  Italian   \n4           Biography, Drama        60               USA  English   \n\n                              director  ...  \\\n0                         Charles Tait  ...   \n1                            Urban Gad  ...   \n2                   Charles L. Gaskill  ...   \n3  Francesco Bertolini, Adolfo Padovan  ...   \n4                        Sidney Olcott  ...   \n\n                                              actors  \\\n0  Elizabeth Tait, John Tait, Norman Campbell, Be...   \n1  Asta Nielsen, Valdemar Psilander, Gunnar Helse...   \n2  Helen Gardner, Pearl Sindelar, Miss Fielding, ...   \n3  Salvatore Papa, Arturo Pirovano, Giuseppe de L...   \n4  R. Henderson Bland, Percy Dyer, Gene Gauntier,...   \n\n                                         description avg_vote votes   budget  \\\n0  True story of notorious Australian outlaw Ned ...      6.1   537   $ 2250   \n1  Two men of high rank are both wooing the beaut...      5.9   171      NaN   \n2  The fabled queen of Egypt's affair with Roman ...      5.2   420  $ 45000   \n3  Loosely adapted from Dante's Divine Comedy and...      7.0  2019      NaN   \n4  An account of the life of Jesus Christ, based ...      5.7   438      NaN   \n\n   usa_gross_income worlwide_gross_income metascore reviews_from_users  \\\n0               NaN                   NaN       NaN                7.0   \n1               NaN                   NaN       NaN                4.0   \n2               NaN                   NaN       NaN               24.0   \n3               NaN                   NaN       NaN               28.0   \n4               NaN                   NaN       NaN               12.0   \n\n   reviews_from_critics  \n0                   7.0  \n1                   2.0  \n2                   3.0  \n3                  14.0  \n4                   5.0  \n\n[5 rows x 22 columns]",
      "text/html": "<div>\n<style scoped>\n    .dataframe tbody tr th:only-of-type {\n        vertical-align: middle;\n    }\n\n    .dataframe tbody tr th {\n        vertical-align: top;\n    }\n\n    .dataframe thead th {\n        text-align: right;\n    }\n</style>\n<table border=\"1\" class=\"dataframe\">\n  <thead>\n    <tr style=\"text-align: right;\">\n      <th></th>\n      <th>imdb_title_id</th>\n      <th>title</th>\n      <th>original_title</th>\n      <th>year</th>\n      <th>date_published</th>\n      <th>genre</th>\n      <th>duration</th>\n      <th>country</th>\n      <th>language</th>\n      <th>director</th>\n      <th>...</th>\n      <th>actors</th>\n      <th>description</th>\n      <th>avg_vote</th>\n      <th>votes</th>\n      <th>budget</th>\n      <th>usa_gross_income</th>\n      <th>worlwide_gross_income</th>\n      <th>metascore</th>\n      <th>reviews_from_users</th>\n      <th>reviews_from_critics</th>\n    </tr>\n  </thead>\n  <tbody>\n    <tr>\n      <th>0</th>\n      <td>tt0000574</td>\n      <td>The Story of the Kelly Gang</td>\n      <td>The Story of the Kelly Gang</td>\n      <td>1906</td>\n      <td>1906-12-26</td>\n      <td>Biography, Crime, Drama</td>\n      <td>70</td>\n      <td>Australia</td>\n      <td>NaN</td>\n      <td>Charles Tait</td>\n      <td>...</td>\n      <td>Elizabeth Tait, John Tait, Norman Campbell, Be...</td>\n      <td>True story of notorious Australian outlaw Ned ...</td>\n      <td>6.1</td>\n      <td>537</td>\n      <td>$ 2250</td>\n      <td>NaN</td>\n      <td>NaN</td>\n      <td>NaN</td>\n      <td>7.0</td>\n      <td>7.0</td>\n    </tr>\n    <tr>\n      <th>1</th>\n      <td>tt0001892</td>\n      <td>Den sorte drøm</td>\n      <td>Den sorte drøm</td>\n      <td>1911</td>\n      <td>1911-08-19</td>\n      <td>Drama</td>\n      <td>53</td>\n      <td>Germany, Denmark</td>\n      <td>NaN</td>\n      <td>Urban Gad</td>\n      <td>...</td>\n      <td>Asta Nielsen, Valdemar Psilander, Gunnar Helse...</td>\n      <td>Two men of high rank are both wooing the beaut...</td>\n      <td>5.9</td>\n      <td>171</td>\n      <td>NaN</td>\n      <td>NaN</td>\n      <td>NaN</td>\n      <td>NaN</td>\n      <td>4.0</td>\n      <td>2.0</td>\n    </tr>\n    <tr>\n      <th>2</th>\n      <td>tt0002101</td>\n      <td>Cleopatra</td>\n      <td>Cleopatra</td>\n      <td>1912</td>\n      <td>1912-11-13</td>\n      <td>Drama, History</td>\n      <td>100</td>\n      <td>USA</td>\n      <td>English</td>\n      <td>Charles L. Gaskill</td>\n      <td>...</td>\n      <td>Helen Gardner, Pearl Sindelar, Miss Fielding, ...</td>\n      <td>The fabled queen of Egypt's affair with Roman ...</td>\n      <td>5.2</td>\n      <td>420</td>\n      <td>$ 45000</td>\n      <td>NaN</td>\n      <td>NaN</td>\n      <td>NaN</td>\n      <td>24.0</td>\n      <td>3.0</td>\n    </tr>\n    <tr>\n      <th>3</th>\n      <td>tt0002130</td>\n      <td>L'Inferno</td>\n      <td>L'Inferno</td>\n      <td>1911</td>\n      <td>1911-03-06</td>\n      <td>Adventure, Drama, Fantasy</td>\n      <td>68</td>\n      <td>Italy</td>\n      <td>Italian</td>\n      <td>Francesco Bertolini, Adolfo Padovan</td>\n      <td>...</td>\n      <td>Salvatore Papa, Arturo Pirovano, Giuseppe de L...</td>\n      <td>Loosely adapted from Dante's Divine Comedy and...</td>\n      <td>7.0</td>\n      <td>2019</td>\n      <td>NaN</td>\n      <td>NaN</td>\n      <td>NaN</td>\n      <td>NaN</td>\n      <td>28.0</td>\n      <td>14.0</td>\n    </tr>\n    <tr>\n      <th>4</th>\n      <td>tt0002199</td>\n      <td>From the Manger to the Cross; or, Jesus of Naz...</td>\n      <td>From the Manger to the Cross; or, Jesus of Naz...</td>\n      <td>1912</td>\n      <td>1913</td>\n      <td>Biography, Drama</td>\n      <td>60</td>\n      <td>USA</td>\n      <td>English</td>\n      <td>Sidney Olcott</td>\n      <td>...</td>\n      <td>R. Henderson Bland, Percy Dyer, Gene Gauntier,...</td>\n      <td>An account of the life of Jesus Christ, based ...</td>\n      <td>5.7</td>\n      <td>438</td>\n      <td>NaN</td>\n      <td>NaN</td>\n      <td>NaN</td>\n      <td>NaN</td>\n      <td>12.0</td>\n      <td>5.0</td>\n    </tr>\n  </tbody>\n</table>\n<p>5 rows × 22 columns</p>\n</div>"
     },
     "execution_count": 11,
     "metadata": {},
     "output_type": "execute_result"
    }
   ],
   "source": [
    "imdb_movies_df.head()"
   ],
   "metadata": {
    "collapsed": false,
    "pycharm": {
     "name": "#%%\n"
    }
   }
  },
  {
   "cell_type": "code",
   "execution_count": 12,
   "outputs": [
    {
     "data": {
      "text/plain": "  imdb_title_id  weighted_average_vote  total_votes  mean_vote  median_vote  \\\n0     tt0000574                    6.1          537        6.3          6.0   \n1     tt0001892                    5.9          171        6.1          6.0   \n2     tt0002101                    5.2          420        5.2          5.0   \n3     tt0002130                    7.0         2019        6.9          7.0   \n4     tt0002199                    5.7          438        5.8          6.0   \n\n   votes_10  votes_9  votes_8  votes_7  votes_6  ...  females_30age_avg_vote  \\\n0        54       17       55      121      122  ...                     6.0   \n1         5        6       17       41       52  ...                     5.8   \n2        12        8       16       60       89  ...                     5.5   \n3       194      208      386      571      308  ...                     7.3   \n4        28       15       42       75      114  ...                     4.8   \n\n   females_30age_votes  females_45age_avg_vote  females_45age_votes  \\\n0                 19.0                     6.6                 14.0   \n1                  4.0                     6.5                  8.0   \n2                 14.0                     6.2                 20.0   \n3                 74.0                     7.4                 75.0   \n4                 10.0                     6.5                 15.0   \n\n   top1000_voters_rating  top1000_voters_votes  us_voters_rating  \\\n0                    6.3                  64.0               6.0   \n1                    5.9                  29.0               6.2   \n2                    4.9                  57.0               5.5   \n3                    7.0                 126.0               7.1   \n4                    5.7                  56.0               5.9   \n\n   us_voters_votes  non_us_voters_rating  non_us_voters_votes  \n0             89.0                   6.2                309.0  \n1             27.0                   6.0                114.0  \n2            197.0                   4.7                103.0  \n3            452.0                   7.0               1076.0  \n4            161.0                   5.7                164.0  \n\n[5 rows x 49 columns]",
      "text/html": "<div>\n<style scoped>\n    .dataframe tbody tr th:only-of-type {\n        vertical-align: middle;\n    }\n\n    .dataframe tbody tr th {\n        vertical-align: top;\n    }\n\n    .dataframe thead th {\n        text-align: right;\n    }\n</style>\n<table border=\"1\" class=\"dataframe\">\n  <thead>\n    <tr style=\"text-align: right;\">\n      <th></th>\n      <th>imdb_title_id</th>\n      <th>weighted_average_vote</th>\n      <th>total_votes</th>\n      <th>mean_vote</th>\n      <th>median_vote</th>\n      <th>votes_10</th>\n      <th>votes_9</th>\n      <th>votes_8</th>\n      <th>votes_7</th>\n      <th>votes_6</th>\n      <th>...</th>\n      <th>females_30age_avg_vote</th>\n      <th>females_30age_votes</th>\n      <th>females_45age_avg_vote</th>\n      <th>females_45age_votes</th>\n      <th>top1000_voters_rating</th>\n      <th>top1000_voters_votes</th>\n      <th>us_voters_rating</th>\n      <th>us_voters_votes</th>\n      <th>non_us_voters_rating</th>\n      <th>non_us_voters_votes</th>\n    </tr>\n  </thead>\n  <tbody>\n    <tr>\n      <th>0</th>\n      <td>tt0000574</td>\n      <td>6.1</td>\n      <td>537</td>\n      <td>6.3</td>\n      <td>6.0</td>\n      <td>54</td>\n      <td>17</td>\n      <td>55</td>\n      <td>121</td>\n      <td>122</td>\n      <td>...</td>\n      <td>6.0</td>\n      <td>19.0</td>\n      <td>6.6</td>\n      <td>14.0</td>\n      <td>6.3</td>\n      <td>64.0</td>\n      <td>6.0</td>\n      <td>89.0</td>\n      <td>6.2</td>\n      <td>309.0</td>\n    </tr>\n    <tr>\n      <th>1</th>\n      <td>tt0001892</td>\n      <td>5.9</td>\n      <td>171</td>\n      <td>6.1</td>\n      <td>6.0</td>\n      <td>5</td>\n      <td>6</td>\n      <td>17</td>\n      <td>41</td>\n      <td>52</td>\n      <td>...</td>\n      <td>5.8</td>\n      <td>4.0</td>\n      <td>6.5</td>\n      <td>8.0</td>\n      <td>5.9</td>\n      <td>29.0</td>\n      <td>6.2</td>\n      <td>27.0</td>\n      <td>6.0</td>\n      <td>114.0</td>\n    </tr>\n    <tr>\n      <th>2</th>\n      <td>tt0002101</td>\n      <td>5.2</td>\n      <td>420</td>\n      <td>5.2</td>\n      <td>5.0</td>\n      <td>12</td>\n      <td>8</td>\n      <td>16</td>\n      <td>60</td>\n      <td>89</td>\n      <td>...</td>\n      <td>5.5</td>\n      <td>14.0</td>\n      <td>6.2</td>\n      <td>20.0</td>\n      <td>4.9</td>\n      <td>57.0</td>\n      <td>5.5</td>\n      <td>197.0</td>\n      <td>4.7</td>\n      <td>103.0</td>\n    </tr>\n    <tr>\n      <th>3</th>\n      <td>tt0002130</td>\n      <td>7.0</td>\n      <td>2019</td>\n      <td>6.9</td>\n      <td>7.0</td>\n      <td>194</td>\n      <td>208</td>\n      <td>386</td>\n      <td>571</td>\n      <td>308</td>\n      <td>...</td>\n      <td>7.3</td>\n      <td>74.0</td>\n      <td>7.4</td>\n      <td>75.0</td>\n      <td>7.0</td>\n      <td>126.0</td>\n      <td>7.1</td>\n      <td>452.0</td>\n      <td>7.0</td>\n      <td>1076.0</td>\n    </tr>\n    <tr>\n      <th>4</th>\n      <td>tt0002199</td>\n      <td>5.7</td>\n      <td>438</td>\n      <td>5.8</td>\n      <td>6.0</td>\n      <td>28</td>\n      <td>15</td>\n      <td>42</td>\n      <td>75</td>\n      <td>114</td>\n      <td>...</td>\n      <td>4.8</td>\n      <td>10.0</td>\n      <td>6.5</td>\n      <td>15.0</td>\n      <td>5.7</td>\n      <td>56.0</td>\n      <td>5.9</td>\n      <td>161.0</td>\n      <td>5.7</td>\n      <td>164.0</td>\n    </tr>\n  </tbody>\n</table>\n<p>5 rows × 49 columns</p>\n</div>"
     },
     "execution_count": 12,
     "metadata": {},
     "output_type": "execute_result"
    }
   ],
   "source": [
    "imdb_ratings_df.head()"
   ],
   "metadata": {
    "collapsed": false,
    "pycharm": {
     "name": "#%%\n"
    }
   }
  },
  {
   "cell_type": "code",
   "execution_count": 13,
   "outputs": [
    {
     "data": {
      "text/plain": "  imdb_title_id                        title               original_title  \\\n0     tt0000574  The Story of the Kelly Gang  The Story of the Kelly Gang   \n1     tt0001892               Den sorte drøm               Den sorte drøm   \n\n   year date_published                    genre  duration           country  \\\n0  1906     1906-12-26  Biography, Crime, Drama        70         Australia   \n1  1911     1911-08-19                    Drama        53  Germany, Denmark   \n\n  language      director  ...  \\\n0      NaN  Charles Tait  ...   \n1      NaN     Urban Gad  ...   \n\n                                         description avg_vote votes  budget  \\\n0  True story of notorious Australian outlaw Ned ...      6.1   537  $ 2250   \n1  Two men of high rank are both wooing the beaut...      5.9   171     NaN   \n\n   usa_gross_income  worlwide_gross_income metascore reviews_from_users  \\\n0               NaN                    NaN       NaN                7.0   \n1               NaN                    NaN       NaN                4.0   \n\n  reviews_from_critics  rating  \n0                  7.0     6.1  \n1                  2.0     5.9  \n\n[2 rows x 23 columns]",
      "text/html": "<div>\n<style scoped>\n    .dataframe tbody tr th:only-of-type {\n        vertical-align: middle;\n    }\n\n    .dataframe tbody tr th {\n        vertical-align: top;\n    }\n\n    .dataframe thead th {\n        text-align: right;\n    }\n</style>\n<table border=\"1\" class=\"dataframe\">\n  <thead>\n    <tr style=\"text-align: right;\">\n      <th></th>\n      <th>imdb_title_id</th>\n      <th>title</th>\n      <th>original_title</th>\n      <th>year</th>\n      <th>date_published</th>\n      <th>genre</th>\n      <th>duration</th>\n      <th>country</th>\n      <th>language</th>\n      <th>director</th>\n      <th>...</th>\n      <th>description</th>\n      <th>avg_vote</th>\n      <th>votes</th>\n      <th>budget</th>\n      <th>usa_gross_income</th>\n      <th>worlwide_gross_income</th>\n      <th>metascore</th>\n      <th>reviews_from_users</th>\n      <th>reviews_from_critics</th>\n      <th>rating</th>\n    </tr>\n  </thead>\n  <tbody>\n    <tr>\n      <th>0</th>\n      <td>tt0000574</td>\n      <td>The Story of the Kelly Gang</td>\n      <td>The Story of the Kelly Gang</td>\n      <td>1906</td>\n      <td>1906-12-26</td>\n      <td>Biography, Crime, Drama</td>\n      <td>70</td>\n      <td>Australia</td>\n      <td>NaN</td>\n      <td>Charles Tait</td>\n      <td>...</td>\n      <td>True story of notorious Australian outlaw Ned ...</td>\n      <td>6.1</td>\n      <td>537</td>\n      <td>$ 2250</td>\n      <td>NaN</td>\n      <td>NaN</td>\n      <td>NaN</td>\n      <td>7.0</td>\n      <td>7.0</td>\n      <td>6.1</td>\n    </tr>\n    <tr>\n      <th>1</th>\n      <td>tt0001892</td>\n      <td>Den sorte drøm</td>\n      <td>Den sorte drøm</td>\n      <td>1911</td>\n      <td>1911-08-19</td>\n      <td>Drama</td>\n      <td>53</td>\n      <td>Germany, Denmark</td>\n      <td>NaN</td>\n      <td>Urban Gad</td>\n      <td>...</td>\n      <td>Two men of high rank are both wooing the beaut...</td>\n      <td>5.9</td>\n      <td>171</td>\n      <td>NaN</td>\n      <td>NaN</td>\n      <td>NaN</td>\n      <td>NaN</td>\n      <td>4.0</td>\n      <td>2.0</td>\n      <td>5.9</td>\n    </tr>\n  </tbody>\n</table>\n<p>2 rows × 23 columns</p>\n</div>"
     },
     "execution_count": 13,
     "metadata": {},
     "output_type": "execute_result"
    }
   ],
   "source": [
    "imdb_movies_df['rating'] = imdb_movies_df['imdb_title_id'].map(imdb_ratings_df.set_index('imdb_title_id')['weighted_average_vote'])\n",
    "imdb_movies_df.head(2)"
   ],
   "metadata": {
    "collapsed": false,
    "pycharm": {
     "name": "#%%\n"
    }
   }
  },
  {
   "cell_type": "code",
   "execution_count": 14,
   "outputs": [
    {
     "data": {
      "text/plain": "[Text(0, 0.5, 'Movies Created'),\n Text(0.5, 0, 'Year'),\n Text(0.5, 1.0, 'New Movies Created Per Year')]"
     },
     "execution_count": 14,
     "metadata": {},
     "output_type": "execute_result"
    },
    {
     "data": {
      "text/plain": "<Figure size 1080x648 with 1 Axes>",
      "image/png": "[encoded data removed]"
     },
     "metadata": {},
     "output_type": "display_data"
    }
   ],
   "source": [
    "movies_per_year = imdb_movies_df.groupby('year').count().reset_index()\n",
    "ax =sns.lineplot(x='year', y='title', data=movies_per_year)\n",
    "ax.set(xlabel='Year', ylabel='Movies Created', title='New Movies Created Per Year')"
   ],
   "metadata": {
    "collapsed": false,
    "pycharm": {
     "name": "#%%\n"
    }
   }
  },
  {
   "cell_type": "code",
   "execution_count": 15,
   "outputs": [
    {
     "name": "stdout",
     "output_type": "stream",
     "text": [
      "Top 8 directors:\n"
     ]
    },
    {
     "data": {
      "text/plain": "            director    rating     votes   total_score\n0  Christopher Nolan  8.250000  10995891  9.071610e+07\n1   Steven Spielberg  7.340625  11114540  8.158767e+07\n2  Quentin Tarantino  7.900000   7774944  6.142206e+07\n3    Martin Scorsese  7.556000   7279895  5.500689e+07\n4      Peter Jackson  7.576923   7023383  5.321563e+07\n5      David Fincher  7.760000   6595585  5.118174e+07\n6       Ridley Scott  7.008000   6652653  4.662179e+07\n7    Robert Zemeckis  7.178947   5609779  4.027231e+07",
      "text/html": "<div>\n<style scoped>\n    .dataframe tbody tr th:only-of-type {\n        vertical-align: middle;\n    }\n\n    .dataframe tbody tr th {\n        vertical-align: top;\n    }\n\n    .dataframe thead th {\n        text-align: right;\n    }\n</style>\n<table border=\"1\" class=\"dataframe\">\n  <thead>\n    <tr style=\"text-align: right;\">\n      <th></th>\n      <th>director</th>\n      <th>rating</th>\n      <th>votes</th>\n      <th>total_score</th>\n    </tr>\n  </thead>\n  <tbody>\n    <tr>\n      <th>0</th>\n      <td>Christopher Nolan</td>\n      <td>8.250000</td>\n      <td>10995891</td>\n      <td>9.071610e+07</td>\n    </tr>\n    <tr>\n      <th>1</th>\n      <td>Steven Spielberg</td>\n      <td>7.340625</td>\n      <td>11114540</td>\n      <td>8.158767e+07</td>\n    </tr>\n    <tr>\n      <th>2</th>\n      <td>Quentin Tarantino</td>\n      <td>7.900000</td>\n      <td>7774944</td>\n      <td>6.142206e+07</td>\n    </tr>\n    <tr>\n      <th>3</th>\n      <td>Martin Scorsese</td>\n      <td>7.556000</td>\n      <td>7279895</td>\n      <td>5.500689e+07</td>\n    </tr>\n    <tr>\n      <th>4</th>\n      <td>Peter Jackson</td>\n      <td>7.576923</td>\n      <td>7023383</td>\n      <td>5.321563e+07</td>\n    </tr>\n    <tr>\n      <th>5</th>\n      <td>David Fincher</td>\n      <td>7.760000</td>\n      <td>6595585</td>\n      <td>5.118174e+07</td>\n    </tr>\n    <tr>\n      <th>6</th>\n      <td>Ridley Scott</td>\n      <td>7.008000</td>\n      <td>6652653</td>\n      <td>4.662179e+07</td>\n    </tr>\n    <tr>\n      <th>7</th>\n      <td>Robert Zemeckis</td>\n      <td>7.178947</td>\n      <td>5609779</td>\n      <td>4.027231e+07</td>\n    </tr>\n  </tbody>\n</table>\n</div>"
     },
     "execution_count": 15,
     "metadata": {},
     "output_type": "execute_result"
    }
   ],
   "source": [
    "director_ratings_df = imdb_movies_df.groupby('director').agg({'rating':np.mean, 'votes': np.sum}).reset_index().sort_values(by='rating')\n",
    "director_ratings_df['total_score'] = director_ratings_df['rating'] * director_ratings_df['votes']\n",
    "director_ratings_df.sort_values(by='total_score', inplace=True, ascending=False)\n",
    "director_ratings_df = director_ratings_df.reset_index().drop('index', axis=1)\n",
    "\n",
    "print('Top 8 directors:')\n",
    "director_ratings_df.head(8)"
   ],
   "metadata": {
    "collapsed": false,
    "pycharm": {
     "name": "#%%\n"
    }
   }
  },
  {
   "cell_type": "code",
   "execution_count": 77,
   "outputs": [
    {
     "data": {
      "application/vnd.plotly.v1+json": {
       "config": {
        "plotlyServerURL": "https://plot.ly"
       },
       "data": [
        {
         "marker": {
          "color": [
           9.071610075E7,
           8.158767018749999E7,
           6.142205760000001E7,
           5.500688662E7,
           5.321563273076923E7,
           5.11817396E7,
           4.662179222400001E7,
           4.027230818947368E7,
           3.7338631099999994E7,
           3.127309443846154E7,
           3.040447297837838E7,
           2.9619953733333334E7,
           2.8141521218181822E7,
           2.812162045E7,
           2.4877726895999998E7,
           2.4083803176923078E7,
           2.2964840583333336E7,
           2.2958129904545464E7,
           2.2798872749999996E7,
           2.1918499849999998E7,
           2.1678923E7,
           2.1325243207547165E7,
           2.0128989083333336E7,
           1.9681938344680853E7,
           1.9632249675E7,
           1.9368453119999997E7,
           1.9220464E7,
           1.8884528133333333E7,
           1.875684336E7,
           1.8455378246153846E7,
           1.83119002E7,
           1.8059070666666668E7,
           1.803684155E7,
           1.7855634285714287E7,
           1.731872445E7,
           1.711847932E7,
           1.66849245E7,
           1.660741616E7,
           1.649790515E7,
           1.6383733100000003E7,
           1.6368799999999998E7,
           1.6249767100000001E7,
           1.5932793890909089E7,
           1.5882176844444443E7,
           1.5797677411764704E7,
           1.5656494000000002E7,
           1.527526E7,
           1.5268643364705885E7,
           1.5175877866666669E7,
           1.490240895E7
          ],
          "colorscale": [
           [
            0.0,
            "rgb(12,51,131)"
           ],
           [
            0.25,
            "rgb(10,136,186)"
           ],
           [
            0.5,
            "rgb(242,211,56)"
           ],
           [
            0.75,
            "rgb(242,143,56)"
           ],
           [
            1.0,
            "rgb(217,30,30)"
           ]
          ]
         },
         "mode": "markers",
         "text": [
          "Christopher Nolan",
          "Steven Spielberg",
          "Quentin Tarantino",
          "Martin Scorsese",
          "Peter Jackson",
          "David Fincher",
          "Ridley Scott",
          "Robert Zemeckis",
          "James Cameron",
          "Stanley Kubrick",
          "Clint Eastwood",
          "Tim Burton",
          "Bryan Singer",
          "Frank Darabont",
          "Ron Howard",
          "Michael Bay",
          "George Lucas",
          "Francis Ford Coppola",
          "Zack Snyder",
          "Gore Verbinski",
          "Guy Ritchie",
          "Alfred Hitchcock",
          "Anthony Russo, Joe Russo",
          "Woody Allen",
          "David Yates",
          "Todd Phillips",
          "Sam Mendes",
          "Lana Wachowski, Lilly Wachowski",
          "Sam Raimi",
          "M. Night Shyamalan",
          "J.J. Abrams",
          "Jon Favreau",
          "Steven Soderbergh",
          "Darren Aronofsky",
          "Matthew Vaughn",
          "Chris Columbus",
          "Francis Lawrence",
          "Joel Coen, Ethan Coen",
          "Joss Whedon",
          "Danny Boyle",
          "Hayao Miyazaki",
          "Guillermo del Toro",
          "James Mangold",
          "Denis Villeneuve",
          "Luc Besson",
          "Wes Anderson",
          "James Wan",
          "Tony Scott",
          "Alejandro G. Iñárritu",
          "Alfonso Cuarón"
         ],
         "type": "scatter",
         "x": [
          8.25,
          7.340624999999999,
          7.900000000000001,
          7.555999999999999,
          7.576923076923077,
          7.76,
          7.008000000000001,
          7.178947368421052,
          7.8999999999999995,
          7.792307692307692,
          6.975675675675676,
          6.966666666666667,
          7.036363636363637,
          7.975,
          6.755999999999999,
          6.484615384615385,
          7.216666666666668,
          6.668181818181821,
          6.937499999999999,
          6.85,
          7.0,
          6.981132075471696,
          7.416666666666667,
          7.061702127659575,
          7.1125,
          6.779999999999999,
          7.3999999999999995,
          6.866666666666666,
          6.7733333333333325,
          6.061538461538461,
          7.4799999999999995,
          6.888888888888889,
          6.65,
          7.314285714285715,
          7.449999999999999,
          6.546666666666667,
          6.9,
          7.5200000000000005,
          7.55,
          7.300000000000002,
          7.999999999999999,
          6.94,
          7.236363636363635,
          7.51111111111111,
          6.705882352941176,
          7.6000000000000005,
          7.0,
          6.741176470588236,
          7.733333333333334,
          7.55
         ],
         "y": [
          10995891,
          11114540,
          7774944,
          7279895,
          7023383,
          6595585,
          6652653,
          5609779,
          4726409,
          4013329,
          4358642,
          4251668,
          3999441,
          3526222,
          3682316,
          3713991,
          3182195,
          3442937,
          3286324,
          3199781,
          3096989,
          3054697,
          2714021,
          2787138,
          2760246,
          2856704,
          2597360,
          2750174,
          2769219,
          3044669,
          2448115,
          2621478,
          2712307,
          2441200,
          2324661,
          2614839,
          2418105,
          2208433,
          2185153,
          2244347,
          2046100,
          2341465,
          2201768,
          2114491,
          2355794,
          2060065,
          2182180,
          2264982,
          1962398,
          1973829
         ]
        }
       ],
       "layout": {
        "template": {
         "data": {
          "bar": [
           {
            "error_x": {
             "color": "#2a3f5f"
            },
            "error_y": {
             "color": "#2a3f5f"
            },
            "marker": {
             "line": {
              "color": "#E5ECF6",
              "width": 0.5
             }
            },
            "type": "bar"
           }
          ],
          "barpolar": [
           {
            "marker": {
             "line": {
              "color": "#E5ECF6",
              "width": 0.5
             }
            },
            "type": "barpolar"
           }
          ],
          "carpet": [
           {
            "aaxis": {
             "endlinecolor": "#2a3f5f",
             "gridcolor": "white",
             "linecolor": "white",
             "minorgridcolor": "white",
             "startlinecolor": "#2a3f5f"
            },
            "baxis": {
             "endlinecolor": "#2a3f5f",
             "gridcolor": "white",
             "linecolor": "white",
             "minorgridcolor": "white",
             "startlinecolor": "#2a3f5f"
            },
            "type": "carpet"
           }
          ],
          "choropleth": [
           {
            "colorbar": {
             "outlinewidth": 0,
             "ticks": ""
            },
            "type": "choropleth"
           }
          ],
          "contour": [
           {
            "colorbar": {
             "outlinewidth": 0,
             "ticks": ""
            },
            "colorscale": [
             [
              0.0,
              "#0d0887"
             ],
             [
              0.1111111111111111,
              "#46039f"
             ],
             [
              0.2222222222222222,
              "#7201a8"
             ],
             [
              0.3333333333333333,
              "#9c179e"
             ],
             [
              0.4444444444444444,
              "#bd3786"
             ],
             [
              0.5555555555555556,
              "#d8576b"
             ],
             [
              0.6666666666666666,
              "#ed7953"
             ],
             [
              0.7777777777777778,
              "#fb9f3a"
             ],
             [
              0.8888888888888888,
              "#fdca26"
             ],
             [
              1.0,
              "#f0f921"
             ]
            ],
            "type": "contour"
           }
          ],
          "contourcarpet": [
           {
            "colorbar": {
             "outlinewidth": 0,
             "ticks": ""
            },
            "type": "contourcarpet"
           }
          ],
          "heatmap": [
           {
            "colorbar": {
             "outlinewidth": 0,
             "ticks": ""
            },
            "colorscale": [
             [
              0.0,
              "#0d0887"
             ],
             [
              0.1111111111111111,
              "#46039f"
             ],
             [
              0.2222222222222222,
              "#7201a8"
             ],
             [
              0.3333333333333333,
              "#9c179e"
             ],
             [
              0.4444444444444444,
              "#bd3786"
             ],
             [
              0.5555555555555556,
              "#d8576b"
             ],
             [
              0.6666666666666666,
              "#ed7953"
             ],
             [
              0.7777777777777778,
              "#fb9f3a"
             ],
             [
              0.8888888888888888,
              "#fdca26"
             ],
             [
              1.0,
              "#f0f921"
             ]
            ],
            "type": "heatmap"
           }
          ],
          "heatmapgl": [
           {
            "colorbar": {
             "outlinewidth": 0,
             "ticks": ""
            },
            "colorscale": [
             [
              0.0,
              "#0d0887"
             ],
             [
              0.1111111111111111,
              "#46039f"
             ],
             [
              0.2222222222222222,
              "#7201a8"
             ],
             [
              0.3333333333333333,
              "#9c179e"
             ],
             [
              0.4444444444444444,
              "#bd3786"
             ],
             [
              0.5555555555555556,
              "#d8576b"
             ],
             [
              0.6666666666666666,
              "#ed7953"
             ],
             [
              0.7777777777777778,
              "#fb9f3a"
             ],
             [
              0.8888888888888888,
              "#fdca26"
             ],
             [
              1.0,
              "#f0f921"
             ]
            ],
            "type": "heatmapgl"
           }
          ],
          "histogram": [
           {
            "marker": {
             "colorbar": {
              "outlinewidth": 0,
              "ticks": ""
             }
            },
            "type": "histogram"
           }
          ],
          "histogram2d": [
           {
            "colorbar": {
             "outlinewidth": 0,
             "ticks": ""
            },
            "colorscale": [
             [
              0.0,
              "#0d0887"
             ],
             [
              0.1111111111111111,
              "#46039f"
             ],
             [
              0.2222222222222222,
              "#7201a8"
             ],
             [
              0.3333333333333333,
              "#9c179e"
             ],
             [
              0.4444444444444444,
              "#bd3786"
             ],
             [
              0.5555555555555556,
              "#d8576b"
             ],
             [
              0.6666666666666666,
              "#ed7953"
             ],
             [
              0.7777777777777778,
              "#fb9f3a"
             ],
             [
              0.8888888888888888,
              "#fdca26"
             ],
             [
              1.0,
              "#f0f921"
             ]
            ],
            "type": "histogram2d"
           }
          ],
          "histogram2dcontour": [
           {
            "colorbar": {
             "outlinewidth": 0,
             "ticks": ""
            },
            "colorscale": [
             [
              0.0,
              "#0d0887"
             ],
             [
              0.1111111111111111,
              "#46039f"
             ],
             [
              0.2222222222222222,
              "#7201a8"
             ],
             [
              0.3333333333333333,
              "#9c179e"
             ],
             [
              0.4444444444444444,
              "#bd3786"
             ],
             [
              0.5555555555555556,
              "#d8576b"
             ],
             [
              0.6666666666666666,
              "#ed7953"
             ],
             [
              0.7777777777777778,
              "#fb9f3a"
             ],
             [
              0.8888888888888888,
              "#fdca26"
             ],
             [
              1.0,
              "#f0f921"
             ]
            ],
            "type": "histogram2dcontour"
           }
          ],
          "mesh3d": [
           {
            "colorbar": {
             "outlinewidth": 0,
             "ticks": ""
            },
            "type": "mesh3d"
           }
          ],
          "parcoords": [
           {
            "line": {
             "colorbar": {
              "outlinewidth": 0,
              "ticks": ""
             }
            },
            "type": "parcoords"
           }
          ],
          "pie": [
           {
            "automargin": true,
            "type": "pie"
           }
          ],
          "scatter": [
           {
            "marker": {
             "colorbar": {
              "outlinewidth": 0,
              "ticks": ""
             }
            },
            "type": "scatter"
           }
          ],
          "scatter3d": [
           {
            "line": {
             "colorbar": {
              "outlinewidth": 0,
              "ticks": ""
             }
            },
            "marker": {
             "colorbar": {
              "outlinewidth": 0,
              "ticks": ""
             }
            },
            "type": "scatter3d"
           }
          ],
          "scattercarpet": [
           {
            "marker": {
             "colorbar": {
              "outlinewidth": 0,
              "ticks": ""
             }
            },
            "type": "scattercarpet"
           }
          ],
          "scattergeo": [
           {
            "marker": {
             "colorbar": {
              "outlinewidth": 0,
              "ticks": ""
             }
            },
            "type": "scattergeo"
           }
          ],
          "scattergl": [
           {
            "marker": {
             "colorbar": {
              "outlinewidth": 0,
              "ticks": ""
             }
            },
            "type": "scattergl"
           }
          ],
          "scattermapbox": [
           {
            "marker": {
             "colorbar": {
              "outlinewidth": 0,
              "ticks": ""
             }
            },
            "type": "scattermapbox"
           }
          ],
          "scatterpolar": [
           {
            "marker": {
             "colorbar": {
              "outlinewidth": 0,
              "ticks": ""
             }
            },
            "type": "scatterpolar"
           }
          ],
          "scatterpolargl": [
           {
            "marker": {
             "colorbar": {
              "outlinewidth": 0,
              "ticks": ""
             }
            },
            "type": "scatterpolargl"
           }
          ],
          "scatterternary": [
           {
            "marker": {
             "colorbar": {
              "outlinewidth": 0,
              "ticks": ""
             }
            },
            "type": "scatterternary"
           }
          ],
          "surface": [
           {
            "colorbar": {
             "outlinewidth": 0,
             "ticks": ""
            },
            "colorscale": [
             [
              0.0,
              "#0d0887"
             ],
             [
              0.1111111111111111,
              "#46039f"
             ],
             [
              0.2222222222222222,
              "#7201a8"
             ],
             [
              0.3333333333333333,
              "#9c179e"
             ],
             [
              0.4444444444444444,
              "#bd3786"
             ],
             [
              0.5555555555555556,
              "#d8576b"
             ],
             [
              0.6666666666666666,
              "#ed7953"
             ],
             [
              0.7777777777777778,
              "#fb9f3a"
             ],
             [
              0.8888888888888888,
              "#fdca26"
             ],
             [
              1.0,
              "#f0f921"
             ]
            ],
            "type": "surface"
           }
          ],
          "table": [
           {
            "cells": {
             "fill": {
              "color": "#EBF0F8"
             },
             "line": {
              "color": "white"
             }
            },
            "header": {
             "fill": {
              "color": "#C8D4E3"
             },
             "line": {
              "color": "white"
             }
            },
            "type": "table"
           }
          ]
         },
         "layout": {
          "annotationdefaults": {
           "arrowcolor": "#2a3f5f",
           "arrowhead": 0,
           "arrowwidth": 1
          },
          "coloraxis": {
           "colorbar": {
            "outlinewidth": 0,
            "ticks": ""
           }
          },
          "colorscale": {
           "diverging": [
            [
             0,
             "#8e0152"
            ],
            [
             0.1,
             "#c51b7d"
            ],
            [
             0.2,
             "#de77ae"
            ],
            [
             0.3,
             "#f1b6da"
            ],
            [
             0.4,
             "#fde0ef"
            ],
            [
             0.5,
             "#f7f7f7"
            ],
            [
             0.6,
             "#e6f5d0"
            ],
            [
             0.7,
             "#b8e186"
            ],
            [
             0.8,
             "#7fbc41"
            ],
            [
             0.9,
             "#4d9221"
            ],
            [
             1,
             "#276419"
            ]
           ],
           "sequential": [
            [
             0.0,
             "#0d0887"
            ],
            [
             0.1111111111111111,
             "#46039f"
            ],
            [
             0.2222222222222222,
             "#7201a8"
            ],
            [
             0.3333333333333333,
             "#9c179e"
            ],
            [
             0.4444444444444444,
             "#bd3786"
            ],
            [
             0.5555555555555556,
             "#d8576b"
            ],
            [
             0.6666666666666666,
             "#ed7953"
            ],
            [
             0.7777777777777778,
             "#fb9f3a"
            ],
            [
             0.8888888888888888,
             "#fdca26"
            ],
            [
             1.0,
             "#f0f921"
            ]
           ],
           "sequentialminus": [
            [
             0.0,
             "#0d0887"
            ],
            [
             0.1111111111111111,
             "#46039f"
            ],
            [
             0.2222222222222222,
             "#7201a8"
            ],
            [
             0.3333333333333333,
             "#9c179e"
            ],
            [
             0.4444444444444444,
             "#bd3786"
            ],
            [
             0.5555555555555556,
             "#d8576b"
            ],
            [
             0.6666666666666666,
             "#ed7953"
            ],
            [
             0.7777777777777778,
             "#fb9f3a"
            ],
            [
             0.8888888888888888,
             "#fdca26"
            ],
            [
             1.0,
             "#f0f921"
            ]
           ]
          },
          "colorway": [
           "#636efa",
           "#EF553B",
           "#00cc96",
           "#ab63fa",
           "#FFA15A",
           "#19d3f3",
           "#FF6692",
           "#B6E880",
           "#FF97FF",
           "#FECB52"
          ],
          "font": {
           "color": "#2a3f5f"
          },
          "geo": {
           "bgcolor": "white",
           "lakecolor": "white",
           "landcolor": "#E5ECF6",
           "showlakes": true,
           "showland": true,
           "subunitcolor": "white"
          },
          "hoverlabel": {
           "align": "left"
          },
          "hovermode": "closest",
          "mapbox": {
           "style": "light"
          },
          "paper_bgcolor": "white",
          "plot_bgcolor": "#E5ECF6",
          "polar": {
           "angularaxis": {
            "gridcolor": "white",
            "linecolor": "white",
            "ticks": ""
           },
           "bgcolor": "#E5ECF6",
           "radialaxis": {
            "gridcolor": "white",
            "linecolor": "white",
            "ticks": ""
           }
          },
          "scene": {
           "xaxis": {
            "backgroundcolor": "#E5ECF6",
            "gridcolor": "white",
            "gridwidth": 2,
            "linecolor": "white",
            "showbackground": true,
            "ticks": "",
            "zerolinecolor": "white"
           },
           "yaxis": {
            "backgroundcolor": "#E5ECF6",
            "gridcolor": "white",
            "gridwidth": 2,
            "linecolor": "white",
            "showbackground": true,
            "ticks": "",
            "zerolinecolor": "white"
           },
           "zaxis": {
            "backgroundcolor": "#E5ECF6",
            "gridcolor": "white",
            "gridwidth": 2,
            "linecolor": "white",
            "showbackground": true,
            "ticks": "",
            "zerolinecolor": "white"
           }
          },
          "shapedefaults": {
           "line": {
            "color": "#2a3f5f"
           }
          },
          "ternary": {
           "aaxis": {
            "gridcolor": "white",
            "linecolor": "white",
            "ticks": ""
           },
           "baxis": {
            "gridcolor": "white",
            "linecolor": "white",
            "ticks": ""
           },
           "bgcolor": "#E5ECF6",
           "caxis": {
            "gridcolor": "white",
            "linecolor": "white",
            "ticks": ""
           }
          },
          "title": {
           "x": 0.05
          },
          "xaxis": {
           "automargin": true,
           "gridcolor": "white",
           "linecolor": "white",
           "ticks": "",
           "title": {
            "standoff": 15
           },
           "zerolinecolor": "white",
           "zerolinewidth": 2
          },
          "yaxis": {
           "automargin": true,
           "gridcolor": "white",
           "linecolor": "white",
           "ticks": "",
           "title": {
            "standoff": 15
           },
           "zerolinecolor": "white",
           "zerolinewidth": 2
          }
         }
        },
        "title": {
         "text": "Widely Favourited Directors",
         "x": 0.5,
         "xanchor": "center",
         "y": 0.9,
         "yanchor": "top"
        },
        "xaxis": {
         "title": {
          "text": "Average Rating"
         }
        },
        "yaxis": {
         "title": {
          "text": "Total Votes"
         }
        }
       }
      },
      "text/html": "<div>\n        \n        \n            <div id=\"2dfc9b45-0b93-4305-a685-9fdda51eea9a\" class=\"plotly-graph-div\" style=\"height:525px; width:100%;\"></div>\n            <script type=\"text/javascript\">\n                require([\"plotly\"], function(Plotly) {\n                    window.PLOTLYENV=window.PLOTLYENV || {};\n                    \n                if (document.getElementById(\"2dfc9b45-0b93-4305-a685-9fdda51eea9a\")) {\n                    Plotly.newPlot(\n                        '2dfc9b45-0b93-4305-a685-9fdda51eea9a',\n                        [{\"marker\": {\"color\": [90716100.75, 81587670.18749999, 61422057.60000001, 55006886.62, 53215632.73076923, 51181739.6, 46621792.22400001, 40272308.18947368, 37338631.099999994, 31273094.43846154, 30404472.97837838, 29619953.733333334, 28141521.218181822, 28121620.45, 24877726.895999998, 24083803.176923078, 22964840.583333336, 22958129.904545464, 22798872.749999996, 21918499.849999998, 21678923.0, 21325243.207547165, 20128989.083333336, 19681938.344680853, 19632249.675, 19368453.119999997, 19220464.0, 18884528.133333333, 18756843.36, 18455378.246153846, 18311900.2, 18059070.666666668, 18036841.55, 17855634.285714287, 17318724.45, 17118479.32, 16684924.5, 16607416.16, 16497905.15, 16383733.100000003, 16368799.999999998, 16249767.100000001, 15932793.890909089, 15882176.844444443, 15797677.411764704, 15656494.000000002, 15275260.0, 15268643.364705885, 15175877.866666669, 14902408.95], \"colorscale\": [[0.0, \"rgb(12,51,131)\"], [0.25, \"rgb(10,136,186)\"], [0.5, \"rgb(242,211,56)\"], [0.75, \"rgb(242,143,56)\"], [1.0, \"rgb(217,30,30)\"]]}, \"mode\": \"markers\", \"text\": [\"Christopher Nolan\", \"Steven Spielberg\", \"Quentin Tarantino\", \"Martin Scorsese\", \"Peter Jackson\", \"David Fincher\", \"Ridley Scott\", \"Robert Zemeckis\", \"James Cameron\", \"Stanley Kubrick\", \"Clint Eastwood\", \"Tim Burton\", \"Bryan Singer\", \"Frank Darabont\", \"Ron Howard\", \"Michael Bay\", \"George Lucas\", \"Francis Ford Coppola\", \"Zack Snyder\", \"Gore Verbinski\", \"Guy Ritchie\", \"Alfred Hitchcock\", \"Anthony Russo, Joe Russo\", \"Woody Allen\", \"David Yates\", \"Todd Phillips\", \"Sam Mendes\", \"Lana Wachowski, Lilly Wachowski\", \"Sam Raimi\", \"M. Night Shyamalan\", \"J.J. Abrams\", \"Jon Favreau\", \"Steven Soderbergh\", \"Darren Aronofsky\", \"Matthew Vaughn\", \"Chris Columbus\", \"Francis Lawrence\", \"Joel Coen, Ethan Coen\", \"Joss Whedon\", \"Danny Boyle\", \"Hayao Miyazaki\", \"Guillermo del Toro\", \"James Mangold\", \"Denis Villeneuve\", \"Luc Besson\", \"Wes Anderson\", \"James Wan\", \"Tony Scott\", \"Alejandro G. I\\u00f1\\u00e1rritu\", \"Alfonso Cuar\\u00f3n\"], \"type\": \"scatter\", \"x\": [8.25, 7.340624999999999, 7.900000000000001, 7.555999999999999, 7.576923076923077, 7.76, 7.008000000000001, 7.178947368421052, 7.8999999999999995, 7.792307692307692, 6.975675675675676, 6.966666666666667, 7.036363636363637, 7.975, 6.755999999999999, 6.484615384615385, 7.216666666666668, 6.668181818181821, 6.937499999999999, 6.85, 7.0, 6.981132075471696, 7.416666666666667, 7.061702127659575, 7.1125, 6.779999999999999, 7.3999999999999995, 6.866666666666666, 6.7733333333333325, 6.061538461538461, 7.4799999999999995, 6.888888888888889, 6.65, 7.314285714285715, 7.449999999999999, 6.546666666666667, 6.9, 7.5200000000000005, 7.55, 7.300000000000002, 7.999999999999999, 6.94, 7.236363636363635, 7.51111111111111, 6.705882352941176, 7.6000000000000005, 7.0, 6.741176470588236, 7.733333333333334, 7.55], \"y\": [10995891, 11114540, 7774944, 7279895, 7023383, 6595585, 6652653, 5609779, 4726409, 4013329, 4358642, 4251668, 3999441, 3526222, 3682316, 3713991, 3182195, 3442937, 3286324, 3199781, 3096989, 3054697, 2714021, 2787138, 2760246, 2856704, 2597360, 2750174, 2769219, 3044669, 2448115, 2621478, 2712307, 2441200, 2324661, 2614839, 2418105, 2208433, 2185153, 2244347, 2046100, 2341465, 2201768, 2114491, 2355794, 2060065, 2182180, 2264982, 1962398, 1973829]}],\n                        {\"template\": {\"data\": {\"bar\": [{\"error_x\": {\"color\": \"#2a3f5f\"}, \"error_y\": {\"color\": \"#2a3f5f\"}, \"marker\": {\"line\": {\"color\": \"#E5ECF6\", \"width\": 0.5}}, \"type\": \"bar\"}], \"barpolar\": [{\"marker\": {\"line\": {\"color\": \"#E5ECF6\", \"width\": 0.5}}, \"type\": \"barpolar\"}], \"carpet\": [{\"aaxis\": {\"endlinecolor\": \"#2a3f5f\", \"gridcolor\": \"white\", \"linecolor\": \"white\", \"minorgridcolor\": \"white\", \"startlinecolor\": \"#2a3f5f\"}, \"baxis\": {\"endlinecolor\": \"#2a3f5f\", \"gridcolor\": \"white\", \"linecolor\": \"white\", \"minorgridcolor\": \"white\", \"startlinecolor\": \"#2a3f5f\"}, \"type\": \"carpet\"}], \"choropleth\": [{\"colorbar\": {\"outlinewidth\": 0, \"ticks\": \"\"}, \"type\": \"choropleth\"}], \"contour\": [{\"colorbar\": {\"outlinewidth\": 0, \"ticks\": \"\"}, \"colorscale\": [[0.0, \"#0d0887\"], [0.1111111111111111, \"#46039f\"], [0.2222222222222222, \"#7201a8\"], [0.3333333333333333, \"#9c179e\"], [0.4444444444444444, \"#bd3786\"], [0.5555555555555556, \"#d8576b\"], [0.6666666666666666, \"#ed7953\"], [0.7777777777777778, \"#fb9f3a\"], [0.8888888888888888, \"#fdca26\"], [1.0, \"#f0f921\"]], \"type\": \"contour\"}], \"contourcarpet\": [{\"colorbar\": {\"outlinewidth\": 0, \"ticks\": \"\"}, \"type\": \"contourcarpet\"}], \"heatmap\": [{\"colorbar\": {\"outlinewidth\": 0, \"ticks\": \"\"}, \"colorscale\": [[0.0, \"#0d0887\"], [0.1111111111111111, \"#46039f\"], [0.2222222222222222, \"#7201a8\"], [0.3333333333333333, \"#9c179e\"], [0.4444444444444444, \"#bd3786\"], [0.5555555555555556, \"#d8576b\"], [0.6666666666666666, \"#ed7953\"], [0.7777777777777778, \"#fb9f3a\"], [0.8888888888888888, \"#fdca26\"], [1.0, \"#f0f921\"]], \"type\": \"heatmap\"}], \"heatmapgl\": [{\"colorbar\": {\"outlinewidth\": 0, \"ticks\": \"\"}, \"colorscale\": [[0.0, \"#0d0887\"], [0.1111111111111111, \"#46039f\"], [0.2222222222222222, \"#7201a8\"], [0.3333333333333333, \"#9c179e\"], [0.4444444444444444, \"#bd3786\"], [0.5555555555555556, \"#d8576b\"], [0.6666666666666666, \"#ed7953\"], [0.7777777777777778, \"#fb9f3a\"], [0.8888888888888888, \"#fdca26\"], [1.0, \"#f0f921\"]], \"type\": \"heatmapgl\"}], \"histogram\": [{\"marker\": {\"colorbar\": {\"outlinewidth\": 0, \"ticks\": \"\"}}, \"type\": \"histogram\"}], \"histogram2d\": [{\"colorbar\": {\"outlinewidth\": 0, \"ticks\": \"\"}, \"colorscale\": [[0.0, \"#0d0887\"], [0.1111111111111111, \"#46039f\"], [0.2222222222222222, \"#7201a8\"], [0.3333333333333333, \"#9c179e\"], [0.4444444444444444, \"#bd3786\"], [0.5555555555555556, \"#d8576b\"], [0.6666666666666666, \"#ed7953\"], [0.7777777777777778, \"#fb9f3a\"], [0.8888888888888888, \"#fdca26\"], [1.0, \"#f0f921\"]], \"type\": \"histogram2d\"}], \"histogram2dcontour\": [{\"colorbar\": {\"outlinewidth\": 0, \"ticks\": \"\"}, \"colorscale\": [[0.0, \"#0d0887\"], [0.1111111111111111, \"#46039f\"], [0.2222222222222222, \"#7201a8\"], [0.3333333333333333, \"#9c179e\"], [0.4444444444444444, \"#bd3786\"], [0.5555555555555556, \"#d8576b\"], [0.6666666666666666, \"#ed7953\"], [0.7777777777777778, \"#fb9f3a\"], [0.8888888888888888, \"#fdca26\"], [1.0, \"#f0f921\"]], \"type\": \"histogram2dcontour\"}], \"mesh3d\": [{\"colorbar\": {\"outlinewidth\": 0, \"ticks\": \"\"}, \"type\": \"mesh3d\"}], \"parcoords\": [{\"line\": {\"colorbar\": {\"outlinewidth\": 0, \"ticks\": \"\"}}, \"type\": \"parcoords\"}], \"pie\": [{\"automargin\": true, \"type\": \"pie\"}], \"scatter\": [{\"marker\": {\"colorbar\": {\"outlinewidth\": 0, \"ticks\": \"\"}}, \"type\": \"scatter\"}], \"scatter3d\": [{\"line\": {\"colorbar\": {\"outlinewidth\": 0, \"ticks\": \"\"}}, \"marker\": {\"colorbar\": {\"outlinewidth\": 0, \"ticks\": \"\"}}, \"type\": \"scatter3d\"}], \"scattercarpet\": [{\"marker\": {\"colorbar\": {\"outlinewidth\": 0, \"ticks\": \"\"}}, \"type\": \"scattercarpet\"}], \"scattergeo\": [{\"marker\": {\"colorbar\": {\"outlinewidth\": 0, \"ticks\": \"\"}}, \"type\": \"scattergeo\"}], \"scattergl\": [{\"marker\": {\"colorbar\": {\"outlinewidth\": 0, \"ticks\": \"\"}}, \"type\": \"scattergl\"}], \"scattermapbox\": [{\"marker\": {\"colorbar\": {\"outlinewidth\": 0, \"ticks\": \"\"}}, \"type\": \"scattermapbox\"}], \"scatterpolar\": [{\"marker\": {\"colorbar\": {\"outlinewidth\": 0, \"ticks\": \"\"}}, \"type\": \"scatterpolar\"}], \"scatterpolargl\": [{\"marker\": {\"colorbar\": {\"outlinewidth\": 0, \"ticks\": \"\"}}, \"type\": \"scatterpolargl\"}], \"scatterternary\": [{\"marker\": {\"colorbar\": {\"outlinewidth\": 0, \"ticks\": \"\"}}, \"type\": \"scatterternary\"}], \"surface\": [{\"colorbar\": {\"outlinewidth\": 0, \"ticks\": \"\"}, \"colorscale\": [[0.0, \"#0d0887\"], [0.1111111111111111, \"#46039f\"], [0.2222222222222222, \"#7201a8\"], [0.3333333333333333, \"#9c179e\"], [0.4444444444444444, \"#bd3786\"], [0.5555555555555556, \"#d8576b\"], [0.6666666666666666, \"#ed7953\"], [0.7777777777777778, \"#fb9f3a\"], [0.8888888888888888, \"#fdca26\"], [1.0, \"#f0f921\"]], \"type\": \"surface\"}], \"table\": [{\"cells\": {\"fill\": {\"color\": \"#EBF0F8\"}, \"line\": {\"color\": \"white\"}}, \"header\": {\"fill\": {\"color\": \"#C8D4E3\"}, \"line\": {\"color\": \"white\"}}, \"type\": \"table\"}]}, \"layout\": {\"annotationdefaults\": {\"arrowcolor\": \"#2a3f5f\", \"arrowhead\": 0, \"arrowwidth\": 1}, \"coloraxis\": {\"colorbar\": {\"outlinewidth\": 0, \"ticks\": \"\"}}, \"colorscale\": {\"diverging\": [[0, \"#8e0152\"], [0.1, \"#c51b7d\"], [0.2, \"#de77ae\"], [0.3, \"#f1b6da\"], [0.4, \"#fde0ef\"], [0.5, \"#f7f7f7\"], [0.6, \"#e6f5d0\"], [0.7, \"#b8e186\"], [0.8, \"#7fbc41\"], [0.9, \"#4d9221\"], [1, \"#276419\"]], \"sequential\": [[0.0, \"#0d0887\"], [0.1111111111111111, \"#46039f\"], [0.2222222222222222, \"#7201a8\"], [0.3333333333333333, \"#9c179e\"], [0.4444444444444444, \"#bd3786\"], [0.5555555555555556, \"#d8576b\"], [0.6666666666666666, \"#ed7953\"], [0.7777777777777778, \"#fb9f3a\"], [0.8888888888888888, \"#fdca26\"], [1.0, \"#f0f921\"]], \"sequentialminus\": [[0.0, \"#0d0887\"], [0.1111111111111111, \"#46039f\"], [0.2222222222222222, \"#7201a8\"], [0.3333333333333333, \"#9c179e\"], [0.4444444444444444, \"#bd3786\"], [0.5555555555555556, \"#d8576b\"], [0.6666666666666666, \"#ed7953\"], [0.7777777777777778, \"#fb9f3a\"], [0.8888888888888888, \"#fdca26\"], [1.0, \"#f0f921\"]]}, \"colorway\": [\"#636efa\", \"#EF553B\", \"#00cc96\", \"#ab63fa\", \"#FFA15A\", \"#19d3f3\", \"#FF6692\", \"#B6E880\", \"#FF97FF\", \"#FECB52\"], \"font\": {\"color\": \"#2a3f5f\"}, \"geo\": {\"bgcolor\": \"white\", \"lakecolor\": \"white\", \"landcolor\": \"#E5ECF6\", \"showlakes\": true, \"showland\": true, \"subunitcolor\": \"white\"}, \"hoverlabel\": {\"align\": \"left\"}, \"hovermode\": \"closest\", \"mapbox\": {\"style\": \"light\"}, \"paper_bgcolor\": \"white\", \"plot_bgcolor\": \"#E5ECF6\", \"polar\": {\"angularaxis\": {\"gridcolor\": \"white\", \"linecolor\": \"white\", \"ticks\": \"\"}, \"bgcolor\": \"#E5ECF6\", \"radialaxis\": {\"gridcolor\": \"white\", \"linecolor\": \"white\", \"ticks\": \"\"}}, \"scene\": {\"xaxis\": {\"backgroundcolor\": \"#E5ECF6\", \"gridcolor\": \"white\", \"gridwidth\": 2, \"linecolor\": \"white\", \"showbackground\": true, \"ticks\": \"\", \"zerolinecolor\": \"white\"}, \"yaxis\": {\"backgroundcolor\": \"#E5ECF6\", \"gridcolor\": \"white\", \"gridwidth\": 2, \"linecolor\": \"white\", \"showbackground\": true, \"ticks\": \"\", \"zerolinecolor\": \"white\"}, \"zaxis\": {\"backgroundcolor\": \"#E5ECF6\", \"gridcolor\": \"white\", \"gridwidth\": 2, \"linecolor\": \"white\", \"showbackground\": true, \"ticks\": \"\", \"zerolinecolor\": \"white\"}}, \"shapedefaults\": {\"line\": {\"color\": \"#2a3f5f\"}}, \"ternary\": {\"aaxis\": {\"gridcolor\": \"white\", \"linecolor\": \"white\", \"ticks\": \"\"}, \"baxis\": {\"gridcolor\": \"white\", \"linecolor\": \"white\", \"ticks\": \"\"}, \"bgcolor\": \"#E5ECF6\", \"caxis\": {\"gridcolor\": \"white\", \"linecolor\": \"white\", \"ticks\": \"\"}}, \"title\": {\"x\": 0.05}, \"xaxis\": {\"automargin\": true, \"gridcolor\": \"white\", \"linecolor\": \"white\", \"ticks\": \"\", \"title\": {\"standoff\": 15}, \"zerolinecolor\": \"white\", \"zerolinewidth\": 2}, \"yaxis\": {\"automargin\": true, \"gridcolor\": \"white\", \"linecolor\": \"white\", \"ticks\": \"\", \"title\": {\"standoff\": 15}, \"zerolinecolor\": \"white\", \"zerolinewidth\": 2}}}, \"title\": {\"text\": \"Widely Favourited Directors\", \"x\": 0.5, \"xanchor\": \"center\", \"y\": 0.9, \"yanchor\": \"top\"}, \"xaxis\": {\"title\": {\"text\": \"Average Rating\"}}, \"yaxis\": {\"title\": {\"text\": \"Total Votes\"}}},\n                        {\"responsive\": true}\n                    ).then(function(){\n                            \nvar gd = document.getElementById('2dfc9b45-0b93-4305-a685-9fdda51eea9a');\nvar x = new MutationObserver(function (mutations, observer) {{\n        var display = window.getComputedStyle(gd).display;\n        if (!display || display === 'none') {{\n            console.log([gd, 'removed!']);\n            Plotly.purge(gd);\n            observer.disconnect();\n        }}\n}});\n\n// Listen for the removal of the full notebook cells\nvar notebookContainer = gd.closest('#notebook-container');\nif (notebookContainer) {{\n    x.observe(notebookContainer, {childList: true});\n}}\n\n// Listen for the clearing of the current output cell\nvar outputEl = gd.closest('.output');\nif (outputEl) {{\n    x.observe(outputEl, {childList: true});\n}}\n\n                        })\n                };\n                });\n            </script>\n        </div>"
     },
     "metadata": {},
     "output_type": "display_data"
    }
   ],
   "source": [
    "plotly_title = {\n",
    "    'text': 'Widely Favourited Directors'\n",
    "    , 'x': 0.5\n",
    "    , 'y': 0.9\n",
    "    , 'xanchor': 'center'\n",
    "    , 'yanchor': 'top'\n",
    "}\n",
    "\n",
    "fig = go.Figure(data=go.Scatter(\n",
    "    x=director_ratings_df['rating'][:50]\n",
    "    , y=director_ratings_df['votes'][:50]\n",
    "    , mode='markers'\n",
    "    , marker_color=director_ratings_df['total_score'][:50]\n",
    "    , text=director_ratings_df['director'][:50]\n",
    "    , marker=dict(\n",
    "        colorscale=\"Portland\"\n",
    "    )\n",
    "))\n",
    "fig.update_layout(\n",
    "    title=plotly_title\n",
    "    , xaxis_title='Average Rating'\n",
    "    , yaxis_title='Total Votes'\n",
    ")\n",
    "\n",
    "fig.show()"
   ],
   "metadata": {
    "collapsed": false,
    "pycharm": {
     "name": "#%%\n"
    }
   }
  },
  {
   "cell_type": "code",
   "execution_count": 62,
   "outputs": [
    {
     "data": {
      "text/plain": "            genre                        title  rating  duration  votes\n0       Biography  The Story of the Kelly Gang     6.1        70    537\n1           Crime  The Story of the Kelly Gang     6.1        70    537\n2           Drama  The Story of the Kelly Gang     6.1        70    537\n3           Drama               Den sorte drøm     5.9        53    171\n4           Drama                    Cleopatra     5.2       100    420\n...           ...                          ...     ...       ...    ...\n166216      Drama                        Ottam     7.8       120    510\n166217      Drama                    Pengalila     8.4       111    604\n166218      Drama    Padmavyuhathile Abhimanyu     8.4       130    369\n166219      Drama            Sokagin Çocuklari     7.2        98    190\n166220     Family            Sokagin Çocuklari     7.2        98    190\n\n[166221 rows x 5 columns]",
      "text/html": "<div>\n<style scoped>\n    .dataframe tbody tr th:only-of-type {\n        vertical-align: middle;\n    }\n\n    .dataframe tbody tr th {\n        vertical-align: top;\n    }\n\n    .dataframe thead th {\n        text-align: right;\n    }\n</style>\n<table border=\"1\" class=\"dataframe\">\n  <thead>\n    <tr style=\"text-align: right;\">\n      <th></th>\n      <th>genre</th>\n      <th>title</th>\n      <th>rating</th>\n      <th>duration</th>\n      <th>votes</th>\n    </tr>\n  </thead>\n  <tbody>\n    <tr>\n      <th>0</th>\n      <td>Biography</td>\n      <td>The Story of the Kelly Gang</td>\n      <td>6.1</td>\n      <td>70</td>\n      <td>537</td>\n    </tr>\n    <tr>\n      <th>1</th>\n      <td>Crime</td>\n      <td>The Story of the Kelly Gang</td>\n      <td>6.1</td>\n      <td>70</td>\n      <td>537</td>\n    </tr>\n    <tr>\n      <th>2</th>\n      <td>Drama</td>\n      <td>The Story of the Kelly Gang</td>\n      <td>6.1</td>\n      <td>70</td>\n      <td>537</td>\n    </tr>\n    <tr>\n      <th>3</th>\n      <td>Drama</td>\n      <td>Den sorte drøm</td>\n      <td>5.9</td>\n      <td>53</td>\n      <td>171</td>\n    </tr>\n    <tr>\n      <th>4</th>\n      <td>Drama</td>\n      <td>Cleopatra</td>\n      <td>5.2</td>\n      <td>100</td>\n      <td>420</td>\n    </tr>\n    <tr>\n      <th>...</th>\n      <td>...</td>\n      <td>...</td>\n      <td>...</td>\n      <td>...</td>\n      <td>...</td>\n    </tr>\n    <tr>\n      <th>166216</th>\n      <td>Drama</td>\n      <td>Ottam</td>\n      <td>7.8</td>\n      <td>120</td>\n      <td>510</td>\n    </tr>\n    <tr>\n      <th>166217</th>\n      <td>Drama</td>\n      <td>Pengalila</td>\n      <td>8.4</td>\n      <td>111</td>\n      <td>604</td>\n    </tr>\n    <tr>\n      <th>166218</th>\n      <td>Drama</td>\n      <td>Padmavyuhathile Abhimanyu</td>\n      <td>8.4</td>\n      <td>130</td>\n      <td>369</td>\n    </tr>\n    <tr>\n      <th>166219</th>\n      <td>Drama</td>\n      <td>Sokagin Çocuklari</td>\n      <td>7.2</td>\n      <td>98</td>\n      <td>190</td>\n    </tr>\n    <tr>\n      <th>166220</th>\n      <td>Family</td>\n      <td>Sokagin Çocuklari</td>\n      <td>7.2</td>\n      <td>98</td>\n      <td>190</td>\n    </tr>\n  </tbody>\n</table>\n<p>166221 rows × 5 columns</p>\n</div>"
     },
     "execution_count": 62,
     "metadata": {},
     "output_type": "execute_result"
    }
   ],
   "source": [
    "\"\"\"\n",
    "splits the genre column into separate rows with individual genres.\n",
    "\n",
    ":param df: DataFrame to split up\n",
    "\"\"\"\n",
    "def count_genres(df):\n",
    "    new_df = {\n",
    "        'genre': []\n",
    "        , 'title': []\n",
    "        , 'rating': []\n",
    "        , 'duration': []\n",
    "        , 'votes': []\n",
    "    }\n",
    "\n",
    "    for row in df.iterrows():\n",
    "        row = row[1]\n",
    "        genre = row['genre']\n",
    "        title = row['title']\n",
    "        rating = row['rating']\n",
    "        duration = row['duration']\n",
    "        votes = row['votes']\n",
    "        for genre_name in genre.split(','):\n",
    "            genre_name = genre_name.split()[0]\n",
    "\n",
    "            new_df['genre'].append(genre_name)\n",
    "            new_df['title'].append(title)\n",
    "            new_df['duration'].append(duration)\n",
    "            new_df['rating'].append(rating)\n",
    "            new_df['votes'].append(votes)\n",
    "\n",
    "    return pd.DataFrame(new_df)\n",
    "\n",
    "genre_ratings_df = count_genres(imdb_movies_df)\n",
    "genre_ratings_df"
   ],
   "metadata": {
    "collapsed": false,
    "pycharm": {
     "name": "#%%\n"
    }
   }
  },
  {
   "cell_type": "code",
   "execution_count": 95,
   "outputs": [
    {
     "data": {
      "text/plain": "       genre  title    rating    duration      votes   total_score\n0      Drama  44404  6.267620  104.059499  383272842  2.402209e+09\n1     Comedy  27873  5.892864   98.304273  229184548  1.350553e+09\n2     Action  12106  5.633950  106.641583  238759511  1.345159e+09\n3  Adventure   7082  5.845835   99.782265  201525136  1.178083e+09\n4      Crime  10461  6.050884  100.552624  141155839  8.541176e+08",
      "text/html": "<div>\n<style scoped>\n    .dataframe tbody tr th:only-of-type {\n        vertical-align: middle;\n    }\n\n    .dataframe tbody tr th {\n        vertical-align: top;\n    }\n\n    .dataframe thead th {\n        text-align: right;\n    }\n</style>\n<table border=\"1\" class=\"dataframe\">\n  <thead>\n    <tr style=\"text-align: right;\">\n      <th></th>\n      <th>genre</th>\n      <th>title</th>\n      <th>rating</th>\n      <th>duration</th>\n      <th>votes</th>\n      <th>total_score</th>\n    </tr>\n  </thead>\n  <tbody>\n    <tr>\n      <th>0</th>\n      <td>Drama</td>\n      <td>44404</td>\n      <td>6.267620</td>\n      <td>104.059499</td>\n      <td>383272842</td>\n      <td>2.402209e+09</td>\n    </tr>\n    <tr>\n      <th>1</th>\n      <td>Comedy</td>\n      <td>27873</td>\n      <td>5.892864</td>\n      <td>98.304273</td>\n      <td>229184548</td>\n      <td>1.350553e+09</td>\n    </tr>\n    <tr>\n      <th>2</th>\n      <td>Action</td>\n      <td>12106</td>\n      <td>5.633950</td>\n      <td>106.641583</td>\n      <td>238759511</td>\n      <td>1.345159e+09</td>\n    </tr>\n    <tr>\n      <th>3</th>\n      <td>Adventure</td>\n      <td>7082</td>\n      <td>5.845835</td>\n      <td>99.782265</td>\n      <td>201525136</td>\n      <td>1.178083e+09</td>\n    </tr>\n    <tr>\n      <th>4</th>\n      <td>Crime</td>\n      <td>10461</td>\n      <td>6.050884</td>\n      <td>100.552624</td>\n      <td>141155839</td>\n      <td>8.541176e+08</td>\n    </tr>\n  </tbody>\n</table>\n</div>"
     },
     "execution_count": 95,
     "metadata": {},
     "output_type": "execute_result"
    }
   ],
   "source": [
    "grouped_genre_df = genre_ratings_df.groupby('genre').agg({\n",
    "    'title': np.count_nonzero\n",
    "    , 'rating': np.mean\n",
    "    , 'duration': np.mean\n",
    "    , 'votes': np.sum\n",
    "}).reset_index()\n",
    "\n",
    "grouped_genre_df['total_score'] = (grouped_genre_df['rating'] * grouped_genre_df['votes'])\n",
    "grouped_genre_df = grouped_genre_df.sort_values(by='total_score', ascending=False).reset_index().drop('index', axis=1)\n",
    "\n",
    "grouped_genre_df.head()"
   ],
   "metadata": {
    "collapsed": false,
    "pycharm": {
     "name": "#%%\n"
    }
   }
  },
  {
   "cell_type": "code",
   "execution_count": 96,
   "outputs": [
    {
     "data": {
      "application/vnd.plotly.v1+json": {
       "config": {
        "plotlyServerURL": "https://plot.ly"
       },
       "data": [
        {
         "labels": [
          "Drama",
          "Comedy",
          "Action",
          "Adventure",
          "Crime",
          "Thriller",
          "Romance",
          "Sci-Fi",
          "Fantasy",
          "Mystery",
          "Horror",
          "Biography",
          "Animation",
          "Family",
          "History"
         ],
         "type": "pie",
         "values": [
          2.402208543095959E9,
          1.3505533864738872E9,
          1.3451591726375773E9,
          1.1780825946663597E9,
          8.541176411216598E8,
          7.540345787326373E8,
          6.091039280400146E8,
          5.158238754963736E8,
          4.494628927183387E8,
          4.255751256632558E8,
          3.3686944687684923E8,
          3.225365393741542E8,
          2.816988415408217E8,
          2.3040151448056298E8,
          1.5178555035192847E8
         ]
        }
       ],
       "layout": {
        "template": {
         "data": {
          "bar": [
           {
            "error_x": {
             "color": "#2a3f5f"
            },
            "error_y": {
             "color": "#2a3f5f"
            },
            "marker": {
             "line": {
              "color": "#E5ECF6",
              "width": 0.5
             }
            },
            "type": "bar"
           }
          ],
          "barpolar": [
           {
            "marker": {
             "line": {
              "color": "#E5ECF6",
              "width": 0.5
             }
            },
            "type": "barpolar"
           }
          ],
          "carpet": [
           {
            "aaxis": {
             "endlinecolor": "#2a3f5f",
             "gridcolor": "white",
             "linecolor": "white",
             "minorgridcolor": "white",
             "startlinecolor": "#2a3f5f"
            },
            "baxis": {
             "endlinecolor": "#2a3f5f",
             "gridcolor": "white",
             "linecolor": "white",
             "minorgridcolor": "white",
             "startlinecolor": "#2a3f5f"
            },
            "type": "carpet"
           }
          ],
          "choropleth": [
           {
            "colorbar": {
             "outlinewidth": 0,
             "ticks": ""
            },
            "type": "choropleth"
           }
          ],
          "contour": [
           {
            "colorbar": {
             "outlinewidth": 0,
             "ticks": ""
            },
            "colorscale": [
             [
              0.0,
              "#0d0887"
             ],
             [
              0.1111111111111111,
              "#46039f"
             ],
             [
              0.2222222222222222,
              "#7201a8"
             ],
             [
              0.3333333333333333,
              "#9c179e"
             ],
             [
              0.4444444444444444,
              "#bd3786"
             ],
             [
              0.5555555555555556,
              "#d8576b"
             ],
             [
              0.6666666666666666,
              "#ed7953"
             ],
             [
              0.7777777777777778,
              "#fb9f3a"
             ],
             [
              0.8888888888888888,
              "#fdca26"
             ],
             [
              1.0,
              "#f0f921"
             ]
            ],
            "type": "contour"
           }
          ],
          "contourcarpet": [
           {
            "colorbar": {
             "outlinewidth": 0,
             "ticks": ""
            },
            "type": "contourcarpet"
           }
          ],
          "heatmap": [
           {
            "colorbar": {
             "outlinewidth": 0,
             "ticks": ""
            },
            "colorscale": [
             [
              0.0,
              "#0d0887"
             ],
             [
              0.1111111111111111,
              "#46039f"
             ],
             [
              0.2222222222222222,
              "#7201a8"
             ],
             [
              0.3333333333333333,
              "#9c179e"
             ],
             [
              0.4444444444444444,
              "#bd3786"
             ],
             [
              0.5555555555555556,
              "#d8576b"
             ],
             [
              0.6666666666666666,
              "#ed7953"
             ],
             [
              0.7777777777777778,
              "#fb9f3a"
             ],
             [
              0.8888888888888888,
              "#fdca26"
             ],
             [
              1.0,
              "#f0f921"
             ]
            ],
            "type": "heatmap"
           }
          ],
          "heatmapgl": [
           {
            "colorbar": {
             "outlinewidth": 0,
             "ticks": ""
            },
            "colorscale": [
             [
              0.0,
              "#0d0887"
             ],
             [
              0.1111111111111111,
              "#46039f"
             ],
             [
              0.2222222222222222,
              "#7201a8"
             ],
             [
              0.3333333333333333,
              "#9c179e"
             ],
             [
              0.4444444444444444,
              "#bd3786"
             ],
             [
              0.5555555555555556,
              "#d8576b"
             ],
             [
              0.6666666666666666,
              "#ed7953"
             ],
             [
              0.7777777777777778,
              "#fb9f3a"
             ],
             [
              0.8888888888888888,
              "#fdca26"
             ],
             [
              1.0,
              "#f0f921"
             ]
            ],
            "type": "heatmapgl"
           }
          ],
          "histogram": [
           {
            "marker": {
             "colorbar": {
              "outlinewidth": 0,
              "ticks": ""
             }
            },
            "type": "histogram"
           }
          ],
          "histogram2d": [
           {
            "colorbar": {
             "outlinewidth": 0,
             "ticks": ""
            },
            "colorscale": [
             [
              0.0,
              "#0d0887"
             ],
             [
              0.1111111111111111,
              "#46039f"
             ],
             [
              0.2222222222222222,
              "#7201a8"
             ],
             [
              0.3333333333333333,
              "#9c179e"
             ],
             [
              0.4444444444444444,
              "#bd3786"
             ],
             [
              0.5555555555555556,
              "#d8576b"
             ],
             [
              0.6666666666666666,
              "#ed7953"
             ],
             [
              0.7777777777777778,
              "#fb9f3a"
             ],
             [
              0.8888888888888888,
              "#fdca26"
             ],
             [
              1.0,
              "#f0f921"
             ]
            ],
            "type": "histogram2d"
           }
          ],
          "histogram2dcontour": [
           {
            "colorbar": {
             "outlinewidth": 0,
             "ticks": ""
            },
            "colorscale": [
             [
              0.0,
              "#0d0887"
             ],
             [
              0.1111111111111111,
              "#46039f"
             ],
             [
              0.2222222222222222,
              "#7201a8"
             ],
             [
              0.3333333333333333,
              "#9c179e"
             ],
             [
              0.4444444444444444,
              "#bd3786"
             ],
             [
              0.5555555555555556,
              "#d8576b"
             ],
             [
              0.6666666666666666,
              "#ed7953"
             ],
             [
              0.7777777777777778,
              "#fb9f3a"
             ],
             [
              0.8888888888888888,
              "#fdca26"
             ],
             [
              1.0,
              "#f0f921"
             ]
            ],
            "type": "histogram2dcontour"
           }
          ],
          "mesh3d": [
           {
            "colorbar": {
             "outlinewidth": 0,
             "ticks": ""
            },
            "type": "mesh3d"
           }
          ],
          "parcoords": [
           {
            "line": {
             "colorbar": {
              "outlinewidth": 0,
              "ticks": ""
             }
            },
            "type": "parcoords"
           }
          ],
          "pie": [
           {
            "automargin": true,
            "type": "pie"
           }
          ],
          "scatter": [
           {
            "marker": {
             "colorbar": {
              "outlinewidth": 0,
              "ticks": ""
             }
            },
            "type": "scatter"
           }
          ],
          "scatter3d": [
           {
            "line": {
             "colorbar": {
              "outlinewidth": 0,
              "ticks": ""
             }
            },
            "marker": {
             "colorbar": {
              "outlinewidth": 0,
              "ticks": ""
             }
            },
            "type": "scatter3d"
           }
          ],
          "scattercarpet": [
           {
            "marker": {
             "colorbar": {
              "outlinewidth": 0,
              "ticks": ""
             }
            },
            "type": "scattercarpet"
           }
          ],
          "scattergeo": [
           {
            "marker": {
             "colorbar": {
              "outlinewidth": 0,
              "ticks": ""
             }
            },
            "type": "scattergeo"
           }
          ],
          "scattergl": [
           {
            "marker": {
             "colorbar": {
              "outlinewidth": 0,
              "ticks": ""
             }
            },
            "type": "scattergl"
           }
          ],
          "scattermapbox": [
           {
            "marker": {
             "colorbar": {
              "outlinewidth": 0,
              "ticks": ""
             }
            },
            "type": "scattermapbox"
           }
          ],
          "scatterpolar": [
           {
            "marker": {
             "colorbar": {
              "outlinewidth": 0,
              "ticks": ""
             }
            },
            "type": "scatterpolar"
           }
          ],
          "scatterpolargl": [
           {
            "marker": {
             "colorbar": {
              "outlinewidth": 0,
              "ticks": ""
             }
            },
            "type": "scatterpolargl"
           }
          ],
          "scatterternary": [
           {
            "marker": {
             "colorbar": {
              "outlinewidth": 0,
              "ticks": ""
             }
            },
            "type": "scatterternary"
           }
          ],
          "surface": [
           {
            "colorbar": {
             "outlinewidth": 0,
             "ticks": ""
            },
            "colorscale": [
             [
              0.0,
              "#0d0887"
             ],
             [
              0.1111111111111111,
              "#46039f"
             ],
             [
              0.2222222222222222,
              "#7201a8"
             ],
             [
              0.3333333333333333,
              "#9c179e"
             ],
             [
              0.4444444444444444,
              "#bd3786"
             ],
             [
              0.5555555555555556,
              "#d8576b"
             ],
             [
              0.6666666666666666,
              "#ed7953"
             ],
             [
              0.7777777777777778,
              "#fb9f3a"
             ],
             [
              0.8888888888888888,
              "#fdca26"
             ],
             [
              1.0,
              "#f0f921"
             ]
            ],
            "type": "surface"
           }
          ],
          "table": [
           {
            "cells": {
             "fill": {
              "color": "#EBF0F8"
             },
             "line": {
              "color": "white"
             }
            },
            "header": {
             "fill": {
              "color": "#C8D4E3"
             },
             "line": {
              "color": "white"
             }
            },
            "type": "table"
           }
          ]
         },
         "layout": {
          "annotationdefaults": {
           "arrowcolor": "#2a3f5f",
           "arrowhead": 0,
           "arrowwidth": 1
          },
          "coloraxis": {
           "colorbar": {
            "outlinewidth": 0,
            "ticks": ""
           }
          },
          "colorscale": {
           "diverging": [
            [
             0,
             "#8e0152"
            ],
            [
             0.1,
             "#c51b7d"
            ],
            [
             0.2,
             "#de77ae"
            ],
            [
             0.3,
             "#f1b6da"
            ],
            [
             0.4,
             "#fde0ef"
            ],
            [
             0.5,
             "#f7f7f7"
            ],
            [
             0.6,
             "#e6f5d0"
            ],
            [
             0.7,
             "#b8e186"
            ],
            [
             0.8,
             "#7fbc41"
            ],
            [
             0.9,
             "#4d9221"
            ],
            [
             1,
             "#276419"
            ]
           ],
           "sequential": [
            [
             0.0,
             "#0d0887"
            ],
            [
             0.1111111111111111,
             "#46039f"
            ],
            [
             0.2222222222222222,
             "#7201a8"
            ],
            [
             0.3333333333333333,
             "#9c179e"
            ],
            [
             0.4444444444444444,
             "#bd3786"
            ],
            [
             0.5555555555555556,
             "#d8576b"
            ],
            [
             0.6666666666666666,
             "#ed7953"
            ],
            [
             0.7777777777777778,
             "#fb9f3a"
            ],
            [
             0.8888888888888888,
             "#fdca26"
            ],
            [
             1.0,
             "#f0f921"
            ]
           ],
           "sequentialminus": [
            [
             0.0,
             "#0d0887"
            ],
            [
             0.1111111111111111,
             "#46039f"
            ],
            [
             0.2222222222222222,
             "#7201a8"
            ],
            [
             0.3333333333333333,
             "#9c179e"
            ],
            [
             0.4444444444444444,
             "#bd3786"
            ],
            [
             0.5555555555555556,
             "#d8576b"
            ],
            [
             0.6666666666666666,
             "#ed7953"
            ],
            [
             0.7777777777777778,
             "#fb9f3a"
            ],
            [
             0.8888888888888888,
             "#fdca26"
            ],
            [
             1.0,
             "#f0f921"
            ]
           ]
          },
          "colorway": [
           "#636efa",
           "#EF553B",
           "#00cc96",
           "#ab63fa",
           "#FFA15A",
           "#19d3f3",
           "#FF6692",
           "#B6E880",
           "#FF97FF",
           "#FECB52"
          ],
          "font": {
           "color": "#2a3f5f"
          },
          "geo": {
           "bgcolor": "white",
           "lakecolor": "white",
           "landcolor": "#E5ECF6",
           "showlakes": true,
           "showland": true,
           "subunitcolor": "white"
          },
          "hoverlabel": {
           "align": "left"
          },
          "hovermode": "closest",
          "mapbox": {
           "style": "light"
          },
          "paper_bgcolor": "white",
          "plot_bgcolor": "#E5ECF6",
          "polar": {
           "angularaxis": {
            "gridcolor": "white",
            "linecolor": "white",
            "ticks": ""
           },
           "bgcolor": "#E5ECF6",
           "radialaxis": {
            "gridcolor": "white",
            "linecolor": "white",
            "ticks": ""
           }
          },
          "scene": {
           "xaxis": {
            "backgroundcolor": "#E5ECF6",
            "gridcolor": "white",
            "gridwidth": 2,
            "linecolor": "white",
            "showbackground": true,
            "ticks": "",
            "zerolinecolor": "white"
           },
           "yaxis": {
            "backgroundcolor": "#E5ECF6",
            "gridcolor": "white",
            "gridwidth": 2,
            "linecolor": "white",
            "showbackground": true,
            "ticks": "",
            "zerolinecolor": "white"
           },
           "zaxis": {
            "backgroundcolor": "#E5ECF6",
            "gridcolor": "white",
            "gridwidth": 2,
            "linecolor": "white",
            "showbackground": true,
            "ticks": "",
            "zerolinecolor": "white"
           }
          },
          "shapedefaults": {
           "line": {
            "color": "#2a3f5f"
           }
          },
          "ternary": {
           "aaxis": {
            "gridcolor": "white",
            "linecolor": "white",
            "ticks": ""
           },
           "baxis": {
            "gridcolor": "white",
            "linecolor": "white",
            "ticks": ""
           },
           "bgcolor": "#E5ECF6",
           "caxis": {
            "gridcolor": "white",
            "linecolor": "white",
            "ticks": ""
           }
          },
          "title": {
           "x": 0.05
          },
          "xaxis": {
           "automargin": true,
           "gridcolor": "white",
           "linecolor": "white",
           "ticks": "",
           "title": {
            "standoff": 15
           },
           "zerolinecolor": "white",
           "zerolinewidth": 2
          },
          "yaxis": {
           "automargin": true,
           "gridcolor": "white",
           "linecolor": "white",
           "ticks": "",
           "title": {
            "standoff": 15
           },
           "zerolinecolor": "white",
           "zerolinewidth": 2
          }
         }
        },
        "title": {
         "text": "Most Popular Genres",
         "x": 0.5,
         "xanchor": "center",
         "y": 0.9,
         "yanchor": "top"
        }
       }
      },
      "text/html": "<div>\n        \n        \n            <div id=\"47fe5985-84ad-49ba-b48f-b6d9915a7bae\" class=\"plotly-graph-div\" style=\"height:525px; width:100%;\"></div>\n            <script type=\"text/javascript\">\n                require([\"plotly\"], function(Plotly) {\n                    window.PLOTLYENV=window.PLOTLYENV || {};\n                    \n                if (document.getElementById(\"47fe5985-84ad-49ba-b48f-b6d9915a7bae\")) {\n                    Plotly.newPlot(\n                        '47fe5985-84ad-49ba-b48f-b6d9915a7bae',\n                        [{\"labels\": [\"Drama\", \"Comedy\", \"Action\", \"Adventure\", \"Crime\", \"Thriller\", \"Romance\", \"Sci-Fi\", \"Fantasy\", \"Mystery\", \"Horror\", \"Biography\", \"Animation\", \"Family\", \"History\"], \"type\": \"pie\", \"values\": [2402208543.095959, 1350553386.4738872, 1345159172.6375773, 1178082594.6663597, 854117641.1216598, 754034578.7326373, 609103928.0400146, 515823875.4963736, 449462892.7183387, 425575125.6632558, 336869446.87684923, 322536539.3741542, 281698841.5408217, 230401514.48056298, 151785550.35192847]}],\n                        {\"template\": {\"data\": {\"bar\": [{\"error_x\": {\"color\": \"#2a3f5f\"}, \"error_y\": {\"color\": \"#2a3f5f\"}, \"marker\": {\"line\": {\"color\": \"#E5ECF6\", \"width\": 0.5}}, \"type\": \"bar\"}], \"barpolar\": [{\"marker\": {\"line\": {\"color\": \"#E5ECF6\", \"width\": 0.5}}, \"type\": \"barpolar\"}], \"carpet\": [{\"aaxis\": {\"endlinecolor\": \"#2a3f5f\", \"gridcolor\": \"white\", \"linecolor\": \"white\", \"minorgridcolor\": \"white\", \"startlinecolor\": \"#2a3f5f\"}, \"baxis\": {\"endlinecolor\": \"#2a3f5f\", \"gridcolor\": \"white\", \"linecolor\": \"white\", \"minorgridcolor\": \"white\", \"startlinecolor\": \"#2a3f5f\"}, \"type\": \"carpet\"}], \"choropleth\": [{\"colorbar\": {\"outlinewidth\": 0, \"ticks\": \"\"}, \"type\": \"choropleth\"}], \"contour\": [{\"colorbar\": {\"outlinewidth\": 0, \"ticks\": \"\"}, \"colorscale\": [[0.0, \"#0d0887\"], [0.1111111111111111, \"#46039f\"], [0.2222222222222222, \"#7201a8\"], [0.3333333333333333, \"#9c179e\"], [0.4444444444444444, \"#bd3786\"], [0.5555555555555556, \"#d8576b\"], [0.6666666666666666, \"#ed7953\"], [0.7777777777777778, \"#fb9f3a\"], [0.8888888888888888, \"#fdca26\"], [1.0, \"#f0f921\"]], \"type\": \"contour\"}], \"contourcarpet\": [{\"colorbar\": {\"outlinewidth\": 0, \"ticks\": \"\"}, \"type\": \"contourcarpet\"}], \"heatmap\": [{\"colorbar\": {\"outlinewidth\": 0, \"ticks\": \"\"}, \"colorscale\": [[0.0, \"#0d0887\"], [0.1111111111111111, \"#46039f\"], [0.2222222222222222, \"#7201a8\"], [0.3333333333333333, \"#9c179e\"], [0.4444444444444444, \"#bd3786\"], [0.5555555555555556, \"#d8576b\"], [0.6666666666666666, \"#ed7953\"], [0.7777777777777778, \"#fb9f3a\"], [0.8888888888888888, \"#fdca26\"], [1.0, \"#f0f921\"]], \"type\": \"heatmap\"}], \"heatmapgl\": [{\"colorbar\": {\"outlinewidth\": 0, \"ticks\": \"\"}, \"colorscale\": [[0.0, \"#0d0887\"], [0.1111111111111111, \"#46039f\"], [0.2222222222222222, \"#7201a8\"], [0.3333333333333333, \"#9c179e\"], [0.4444444444444444, \"#bd3786\"], [0.5555555555555556, \"#d8576b\"], [0.6666666666666666, \"#ed7953\"], [0.7777777777777778, \"#fb9f3a\"], [0.8888888888888888, \"#fdca26\"], [1.0, \"#f0f921\"]], \"type\": \"heatmapgl\"}], \"histogram\": [{\"marker\": {\"colorbar\": {\"outlinewidth\": 0, \"ticks\": \"\"}}, \"type\": \"histogram\"}], \"histogram2d\": [{\"colorbar\": {\"outlinewidth\": 0, \"ticks\": \"\"}, \"colorscale\": [[0.0, \"#0d0887\"], [0.1111111111111111, \"#46039f\"], [0.2222222222222222, \"#7201a8\"], [0.3333333333333333, \"#9c179e\"], [0.4444444444444444, \"#bd3786\"], [0.5555555555555556, \"#d8576b\"], [0.6666666666666666, \"#ed7953\"], [0.7777777777777778, \"#fb9f3a\"], [0.8888888888888888, \"#fdca26\"], [1.0, \"#f0f921\"]], \"type\": \"histogram2d\"}], \"histogram2dcontour\": [{\"colorbar\": {\"outlinewidth\": 0, \"ticks\": \"\"}, \"colorscale\": [[0.0, \"#0d0887\"], [0.1111111111111111, \"#46039f\"], [0.2222222222222222, \"#7201a8\"], [0.3333333333333333, \"#9c179e\"], [0.4444444444444444, \"#bd3786\"], [0.5555555555555556, \"#d8576b\"], [0.6666666666666666, \"#ed7953\"], [0.7777777777777778, \"#fb9f3a\"], [0.8888888888888888, \"#fdca26\"], [1.0, \"#f0f921\"]], \"type\": \"histogram2dcontour\"}], \"mesh3d\": [{\"colorbar\": {\"outlinewidth\": 0, \"ticks\": \"\"}, \"type\": \"mesh3d\"}], \"parcoords\": [{\"line\": {\"colorbar\": {\"outlinewidth\": 0, \"ticks\": \"\"}}, \"type\": \"parcoords\"}], \"pie\": [{\"automargin\": true, \"type\": \"pie\"}], \"scatter\": [{\"marker\": {\"colorbar\": {\"outlinewidth\": 0, \"ticks\": \"\"}}, \"type\": \"scatter\"}], \"scatter3d\": [{\"line\": {\"colorbar\": {\"outlinewidth\": 0, \"ticks\": \"\"}}, \"marker\": {\"colorbar\": {\"outlinewidth\": 0, \"ticks\": \"\"}}, \"type\": \"scatter3d\"}], \"scattercarpet\": [{\"marker\": {\"colorbar\": {\"outlinewidth\": 0, \"ticks\": \"\"}}, \"type\": \"scattercarpet\"}], \"scattergeo\": [{\"marker\": {\"colorbar\": {\"outlinewidth\": 0, \"ticks\": \"\"}}, \"type\": \"scattergeo\"}], \"scattergl\": [{\"marker\": {\"colorbar\": {\"outlinewidth\": 0, \"ticks\": \"\"}}, \"type\": \"scattergl\"}], \"scattermapbox\": [{\"marker\": {\"colorbar\": {\"outlinewidth\": 0, \"ticks\": \"\"}}, \"type\": \"scattermapbox\"}], \"scatterpolar\": [{\"marker\": {\"colorbar\": {\"outlinewidth\": 0, \"ticks\": \"\"}}, \"type\": \"scatterpolar\"}], \"scatterpolargl\": [{\"marker\": {\"colorbar\": {\"outlinewidth\": 0, \"ticks\": \"\"}}, \"type\": \"scatterpolargl\"}], \"scatterternary\": [{\"marker\": {\"colorbar\": {\"outlinewidth\": 0, \"ticks\": \"\"}}, \"type\": \"scatterternary\"}], \"surface\": [{\"colorbar\": {\"outlinewidth\": 0, \"ticks\": \"\"}, \"colorscale\": [[0.0, \"#0d0887\"], [0.1111111111111111, \"#46039f\"], [0.2222222222222222, \"#7201a8\"], [0.3333333333333333, \"#9c179e\"], [0.4444444444444444, \"#bd3786\"], [0.5555555555555556, \"#d8576b\"], [0.6666666666666666, \"#ed7953\"], [0.7777777777777778, \"#fb9f3a\"], [0.8888888888888888, \"#fdca26\"], [1.0, \"#f0f921\"]], \"type\": \"surface\"}], \"table\": [{\"cells\": {\"fill\": {\"color\": \"#EBF0F8\"}, \"line\": {\"color\": \"white\"}}, \"header\": {\"fill\": {\"color\": \"#C8D4E3\"}, \"line\": {\"color\": \"white\"}}, \"type\": \"table\"}]}, \"layout\": {\"annotationdefaults\": {\"arrowcolor\": \"#2a3f5f\", \"arrowhead\": 0, \"arrowwidth\": 1}, \"coloraxis\": {\"colorbar\": {\"outlinewidth\": 0, \"ticks\": \"\"}}, \"colorscale\": {\"diverging\": [[0, \"#8e0152\"], [0.1, \"#c51b7d\"], [0.2, \"#de77ae\"], [0.3, \"#f1b6da\"], [0.4, \"#fde0ef\"], [0.5, \"#f7f7f7\"], [0.6, \"#e6f5d0\"], [0.7, \"#b8e186\"], [0.8, \"#7fbc41\"], [0.9, \"#4d9221\"], [1, \"#276419\"]], \"sequential\": [[0.0, \"#0d0887\"], [0.1111111111111111, \"#46039f\"], [0.2222222222222222, \"#7201a8\"], [0.3333333333333333, \"#9c179e\"], [0.4444444444444444, \"#bd3786\"], [0.5555555555555556, \"#d8576b\"], [0.6666666666666666, \"#ed7953\"], [0.7777777777777778, \"#fb9f3a\"], [0.8888888888888888, \"#fdca26\"], [1.0, \"#f0f921\"]], \"sequentialminus\": [[0.0, \"#0d0887\"], [0.1111111111111111, \"#46039f\"], [0.2222222222222222, \"#7201a8\"], [0.3333333333333333, \"#9c179e\"], [0.4444444444444444, \"#bd3786\"], [0.5555555555555556, \"#d8576b\"], [0.6666666666666666, \"#ed7953\"], [0.7777777777777778, \"#fb9f3a\"], [0.8888888888888888, \"#fdca26\"], [1.0, \"#f0f921\"]]}, \"colorway\": [\"#636efa\", \"#EF553B\", \"#00cc96\", \"#ab63fa\", \"#FFA15A\", \"#19d3f3\", \"#FF6692\", \"#B6E880\", \"#FF97FF\", \"#FECB52\"], \"font\": {\"color\": \"#2a3f5f\"}, \"geo\": {\"bgcolor\": \"white\", \"lakecolor\": \"white\", \"landcolor\": \"#E5ECF6\", \"showlakes\": true, \"showland\": true, \"subunitcolor\": \"white\"}, \"hoverlabel\": {\"align\": \"left\"}, \"hovermode\": \"closest\", \"mapbox\": {\"style\": \"light\"}, \"paper_bgcolor\": \"white\", \"plot_bgcolor\": \"#E5ECF6\", \"polar\": {\"angularaxis\": {\"gridcolor\": \"white\", \"linecolor\": \"white\", \"ticks\": \"\"}, \"bgcolor\": \"#E5ECF6\", \"radialaxis\": {\"gridcolor\": \"white\", \"linecolor\": \"white\", \"ticks\": \"\"}}, \"scene\": {\"xaxis\": {\"backgroundcolor\": \"#E5ECF6\", \"gridcolor\": \"white\", \"gridwidth\": 2, \"linecolor\": \"white\", \"showbackground\": true, \"ticks\": \"\", \"zerolinecolor\": \"white\"}, \"yaxis\": {\"backgroundcolor\": \"#E5ECF6\", \"gridcolor\": \"white\", \"gridwidth\": 2, \"linecolor\": \"white\", \"showbackground\": true, \"ticks\": \"\", \"zerolinecolor\": \"white\"}, \"zaxis\": {\"backgroundcolor\": \"#E5ECF6\", \"gridcolor\": \"white\", \"gridwidth\": 2, \"linecolor\": \"white\", \"showbackground\": true, \"ticks\": \"\", \"zerolinecolor\": \"white\"}}, \"shapedefaults\": {\"line\": {\"color\": \"#2a3f5f\"}}, \"ternary\": {\"aaxis\": {\"gridcolor\": \"white\", \"linecolor\": \"white\", \"ticks\": \"\"}, \"baxis\": {\"gridcolor\": \"white\", \"linecolor\": \"white\", \"ticks\": \"\"}, \"bgcolor\": \"#E5ECF6\", \"caxis\": {\"gridcolor\": \"white\", \"linecolor\": \"white\", \"ticks\": \"\"}}, \"title\": {\"x\": 0.05}, \"xaxis\": {\"automargin\": true, \"gridcolor\": \"white\", \"linecolor\": \"white\", \"ticks\": \"\", \"title\": {\"standoff\": 15}, \"zerolinecolor\": \"white\", \"zerolinewidth\": 2}, \"yaxis\": {\"automargin\": true, \"gridcolor\": \"white\", \"linecolor\": \"white\", \"ticks\": \"\", \"title\": {\"standoff\": 15}, \"zerolinecolor\": \"white\", \"zerolinewidth\": 2}}}, \"title\": {\"text\": \"Most Popular Genres\", \"x\": 0.5, \"xanchor\": \"center\", \"y\": 0.9, \"yanchor\": \"top\"}},\n                        {\"responsive\": true}\n                    ).then(function(){\n                            \nvar gd = document.getElementById('47fe5985-84ad-49ba-b48f-b6d9915a7bae');\nvar x = new MutationObserver(function (mutations, observer) {{\n        var display = window.getComputedStyle(gd).display;\n        if (!display || display === 'none') {{\n            console.log([gd, 'removed!']);\n            Plotly.purge(gd);\n            observer.disconnect();\n        }}\n}});\n\n// Listen for the removal of the full notebook cells\nvar notebookContainer = gd.closest('#notebook-container');\nif (notebookContainer) {{\n    x.observe(notebookContainer, {childList: true});\n}}\n\n// Listen for the clearing of the current output cell\nvar outputEl = gd.closest('.output');\nif (outputEl) {{\n    x.observe(outputEl, {childList: true});\n}}\n\n                        })\n                };\n                });\n            </script>\n        </div>"
     },
     "metadata": {},
     "output_type": "display_data"
    }
   ],
   "source": [
    "plotly_title['text'] = 'Most Popular Genres'\n",
    "\n",
    "# grouped_genre_df[:10]\n",
    "fig = go.Figure(data=go.Pie(\n",
    "    labels=grouped_genre_df['genre'][:15]\n",
    "    , values=grouped_genre_df['total_score'][:15]\n",
    "    ,\n",
    "))\n",
    "fig.update_layout(\n",
    "   title=plotly_title\n",
    ")\n",
    "\n",
    "fig.show()"
   ],
   "metadata": {
    "collapsed": false,
    "pycharm": {
     "name": "#%%\n"
    }
   }
  },
  {
   "cell_type": "code",
   "execution_count": 97,
   "outputs": [
    {
     "data": {
      "application/vnd.plotly.v1+json": {
       "config": {
        "plotlyServerURL": "https://plot.ly"
       },
       "data": [
        {
         "type": "bar",
         "x": [
          "History",
          "Biography",
          "Musical",
          "War",
          "Action",
          "Romance",
          "Drama",
          "Game-Show",
          "Sport",
          "Music",
          "Crime",
          "Thriller",
          "Adventure",
          "Fantasy",
          "Comedy",
          "Mystery",
          "Family",
          "Sci-Fi",
          "Western",
          "Horror",
          "Reality-TV",
          "News",
          "Animation",
          "Film-Noir",
          "Documentary"
         ],
         "y": [
          117.54866850321396,
          114.19692307692307,
          109.14314414866901,
          107.25966850828729,
          106.64158268627126,
          104.27715075865162,
          104.05949914422123,
          104.0,
          103.72862823061631,
          101.14495530012772,
          100.5526240321193,
          99.87368226373219,
          99.78226489692177,
          99.30369547096416,
          98.30427295231945,
          98.1072535647861,
          97.31429344883595,
          94.87766263673,
          91.82749840865691,
          91.22840393761751,
          89.5,
          88.0,
          87.42652152399802,
          85.41379310344827,
          76.0
         ]
        }
       ],
       "layout": {
        "template": {
         "data": {
          "bar": [
           {
            "error_x": {
             "color": "#2a3f5f"
            },
            "error_y": {
             "color": "#2a3f5f"
            },
            "marker": {
             "line": {
              "color": "#E5ECF6",
              "width": 0.5
             }
            },
            "type": "bar"
           }
          ],
          "barpolar": [
           {
            "marker": {
             "line": {
              "color": "#E5ECF6",
              "width": 0.5
             }
            },
            "type": "barpolar"
           }
          ],
          "carpet": [
           {
            "aaxis": {
             "endlinecolor": "#2a3f5f",
             "gridcolor": "white",
             "linecolor": "white",
             "minorgridcolor": "white",
             "startlinecolor": "#2a3f5f"
            },
            "baxis": {
             "endlinecolor": "#2a3f5f",
             "gridcolor": "white",
             "linecolor": "white",
             "minorgridcolor": "white",
             "startlinecolor": "#2a3f5f"
            },
            "type": "carpet"
           }
          ],
          "choropleth": [
           {
            "colorbar": {
             "outlinewidth": 0,
             "ticks": ""
            },
            "type": "choropleth"
           }
          ],
          "contour": [
           {
            "colorbar": {
             "outlinewidth": 0,
             "ticks": ""
            },
            "colorscale": [
             [
              0.0,
              "#0d0887"
             ],
             [
              0.1111111111111111,
              "#46039f"
             ],
             [
              0.2222222222222222,
              "#7201a8"
             ],
             [
              0.3333333333333333,
              "#9c179e"
             ],
             [
              0.4444444444444444,
              "#bd3786"
             ],
             [
              0.5555555555555556,
              "#d8576b"
             ],
             [
              0.6666666666666666,
              "#ed7953"
             ],
             [
              0.7777777777777778,
              "#fb9f3a"
             ],
             [
              0.8888888888888888,
              "#fdca26"
             ],
             [
              1.0,
              "#f0f921"
             ]
            ],
            "type": "contour"
           }
          ],
          "contourcarpet": [
           {
            "colorbar": {
             "outlinewidth": 0,
             "ticks": ""
            },
            "type": "contourcarpet"
           }
          ],
          "heatmap": [
           {
            "colorbar": {
             "outlinewidth": 0,
             "ticks": ""
            },
            "colorscale": [
             [
              0.0,
              "#0d0887"
             ],
             [
              0.1111111111111111,
              "#46039f"
             ],
             [
              0.2222222222222222,
              "#7201a8"
             ],
             [
              0.3333333333333333,
              "#9c179e"
             ],
             [
              0.4444444444444444,
              "#bd3786"
             ],
             [
              0.5555555555555556,
              "#d8576b"
             ],
             [
              0.6666666666666666,
              "#ed7953"
             ],
             [
              0.7777777777777778,
              "#fb9f3a"
             ],
             [
              0.8888888888888888,
              "#fdca26"
             ],
             [
              1.0,
              "#f0f921"
             ]
            ],
            "type": "heatmap"
           }
          ],
          "heatmapgl": [
           {
            "colorbar": {
             "outlinewidth": 0,
             "ticks": ""
            },
            "colorscale": [
             [
              0.0,
              "#0d0887"
             ],
             [
              0.1111111111111111,
              "#46039f"
             ],
             [
              0.2222222222222222,
              "#7201a8"
             ],
             [
              0.3333333333333333,
              "#9c179e"
             ],
             [
              0.4444444444444444,
              "#bd3786"
             ],
             [
              0.5555555555555556,
              "#d8576b"
             ],
             [
              0.6666666666666666,
              "#ed7953"
             ],
             [
              0.7777777777777778,
              "#fb9f3a"
             ],
             [
              0.8888888888888888,
              "#fdca26"
             ],
             [
              1.0,
              "#f0f921"
             ]
            ],
            "type": "heatmapgl"
           }
          ],
          "histogram": [
           {
            "marker": {
             "colorbar": {
              "outlinewidth": 0,
              "ticks": ""
             }
            },
            "type": "histogram"
           }
          ],
          "histogram2d": [
           {
            "colorbar": {
             "outlinewidth": 0,
             "ticks": ""
            },
            "colorscale": [
             [
              0.0,
              "#0d0887"
             ],
             [
              0.1111111111111111,
              "#46039f"
             ],
             [
              0.2222222222222222,
              "#7201a8"
             ],
             [
              0.3333333333333333,
              "#9c179e"
             ],
             [
              0.4444444444444444,
              "#bd3786"
             ],
             [
              0.5555555555555556,
              "#d8576b"
             ],
             [
              0.6666666666666666,
              "#ed7953"
             ],
             [
              0.7777777777777778,
              "#fb9f3a"
             ],
             [
              0.8888888888888888,
              "#fdca26"
             ],
             [
              1.0,
              "#f0f921"
             ]
            ],
            "type": "histogram2d"
           }
          ],
          "histogram2dcontour": [
           {
            "colorbar": {
             "outlinewidth": 0,
             "ticks": ""
            },
            "colorscale": [
             [
              0.0,
              "#0d0887"
             ],
             [
              0.1111111111111111,
              "#46039f"
             ],
             [
              0.2222222222222222,
              "#7201a8"
             ],
             [
              0.3333333333333333,
              "#9c179e"
             ],
             [
              0.4444444444444444,
              "#bd3786"
             ],
             [
              0.5555555555555556,
              "#d8576b"
             ],
             [
              0.6666666666666666,
              "#ed7953"
             ],
             [
              0.7777777777777778,
              "#fb9f3a"
             ],
             [
              0.8888888888888888,
              "#fdca26"
             ],
             [
              1.0,
              "#f0f921"
             ]
            ],
            "type": "histogram2dcontour"
           }
          ],
          "mesh3d": [
           {
            "colorbar": {
             "outlinewidth": 0,
             "ticks": ""
            },
            "type": "mesh3d"
           }
          ],
          "parcoords": [
           {
            "line": {
             "colorbar": {
              "outlinewidth": 0,
              "ticks": ""
             }
            },
            "type": "parcoords"
           }
          ],
          "pie": [
           {
            "automargin": true,
            "type": "pie"
           }
          ],
          "scatter": [
           {
            "marker": {
             "colorbar": {
              "outlinewidth": 0,
              "ticks": ""
             }
            },
            "type": "scatter"
           }
          ],
          "scatter3d": [
           {
            "line": {
             "colorbar": {
              "outlinewidth": 0,
              "ticks": ""
             }
            },
            "marker": {
             "colorbar": {
              "outlinewidth": 0,
              "ticks": ""
             }
            },
            "type": "scatter3d"
           }
          ],
          "scattercarpet": [
           {
            "marker": {
             "colorbar": {
              "outlinewidth": 0,
              "ticks": ""
             }
            },
            "type": "scattercarpet"
           }
          ],
          "scattergeo": [
           {
            "marker": {
             "colorbar": {
              "outlinewidth": 0,
              "ticks": ""
             }
            },
            "type": "scattergeo"
           }
          ],
          "scattergl": [
           {
            "marker": {
             "colorbar": {
              "outlinewidth": 0,
              "ticks": ""
             }
            },
            "type": "scattergl"
           }
          ],
          "scattermapbox": [
           {
            "marker": {
             "colorbar": {
              "outlinewidth": 0,
              "ticks": ""
             }
            },
            "type": "scattermapbox"
           }
          ],
          "scatterpolar": [
           {
            "marker": {
             "colorbar": {
              "outlinewidth": 0,
              "ticks": ""
             }
            },
            "type": "scatterpolar"
           }
          ],
          "scatterpolargl": [
           {
            "marker": {
             "colorbar": {
              "outlinewidth": 0,
              "ticks": ""
             }
            },
            "type": "scatterpolargl"
           }
          ],
          "scatterternary": [
           {
            "marker": {
             "colorbar": {
              "outlinewidth": 0,
              "ticks": ""
             }
            },
            "type": "scatterternary"
           }
          ],
          "surface": [
           {
            "colorbar": {
             "outlinewidth": 0,
             "ticks": ""
            },
            "colorscale": [
             [
              0.0,
              "#0d0887"
             ],
             [
              0.1111111111111111,
              "#46039f"
             ],
             [
              0.2222222222222222,
              "#7201a8"
             ],
             [
              0.3333333333333333,
              "#9c179e"
             ],
             [
              0.4444444444444444,
              "#bd3786"
             ],
             [
              0.5555555555555556,
              "#d8576b"
             ],
             [
              0.6666666666666666,
              "#ed7953"
             ],
             [
              0.7777777777777778,
              "#fb9f3a"
             ],
             [
              0.8888888888888888,
              "#fdca26"
             ],
             [
              1.0,
              "#f0f921"
             ]
            ],
            "type": "surface"
           }
          ],
          "table": [
           {
            "cells": {
             "fill": {
              "color": "#EBF0F8"
             },
             "line": {
              "color": "white"
             }
            },
            "header": {
             "fill": {
              "color": "#C8D4E3"
             },
             "line": {
              "color": "white"
             }
            },
            "type": "table"
           }
          ]
         },
         "layout": {
          "annotationdefaults": {
           "arrowcolor": "#2a3f5f",
           "arrowhead": 0,
           "arrowwidth": 1
          },
          "coloraxis": {
           "colorbar": {
            "outlinewidth": 0,
            "ticks": ""
           }
          },
          "colorscale": {
           "diverging": [
            [
             0,
             "#8e0152"
            ],
            [
             0.1,
             "#c51b7d"
            ],
            [
             0.2,
             "#de77ae"
            ],
            [
             0.3,
             "#f1b6da"
            ],
            [
             0.4,
             "#fde0ef"
            ],
            [
             0.5,
             "#f7f7f7"
            ],
            [
             0.6,
             "#e6f5d0"
            ],
            [
             0.7,
             "#b8e186"
            ],
            [
             0.8,
             "#7fbc41"
            ],
            [
             0.9,
             "#4d9221"
            ],
            [
             1,
             "#276419"
            ]
           ],
           "sequential": [
            [
             0.0,
             "#0d0887"
            ],
            [
             0.1111111111111111,
             "#46039f"
            ],
            [
             0.2222222222222222,
             "#7201a8"
            ],
            [
             0.3333333333333333,
             "#9c179e"
            ],
            [
             0.4444444444444444,
             "#bd3786"
            ],
            [
             0.5555555555555556,
             "#d8576b"
            ],
            [
             0.6666666666666666,
             "#ed7953"
            ],
            [
             0.7777777777777778,
             "#fb9f3a"
            ],
            [
             0.8888888888888888,
             "#fdca26"
            ],
            [
             1.0,
             "#f0f921"
            ]
           ],
           "sequentialminus": [
            [
             0.0,
             "#0d0887"
            ],
            [
             0.1111111111111111,
             "#46039f"
            ],
            [
             0.2222222222222222,
             "#7201a8"
            ],
            [
             0.3333333333333333,
             "#9c179e"
            ],
            [
             0.4444444444444444,
             "#bd3786"
            ],
            [
             0.5555555555555556,
             "#d8576b"
            ],
            [
             0.6666666666666666,
             "#ed7953"
            ],
            [
             0.7777777777777778,
             "#fb9f3a"
            ],
            [
             0.8888888888888888,
             "#fdca26"
            ],
            [
             1.0,
             "#f0f921"
            ]
           ]
          },
          "colorway": [
           "#636efa",
           "#EF553B",
           "#00cc96",
           "#ab63fa",
           "#FFA15A",
           "#19d3f3",
           "#FF6692",
           "#B6E880",
           "#FF97FF",
           "#FECB52"
          ],
          "font": {
           "color": "#2a3f5f"
          },
          "geo": {
           "bgcolor": "white",
           "lakecolor": "white",
           "landcolor": "#E5ECF6",
           "showlakes": true,
           "showland": true,
           "subunitcolor": "white"
          },
          "hoverlabel": {
           "align": "left"
          },
          "hovermode": "closest",
          "mapbox": {
           "style": "light"
          },
          "paper_bgcolor": "white",
          "plot_bgcolor": "#E5ECF6",
          "polar": {
           "angularaxis": {
            "gridcolor": "white",
            "linecolor": "white",
            "ticks": ""
           },
           "bgcolor": "#E5ECF6",
           "radialaxis": {
            "gridcolor": "white",
            "linecolor": "white",
            "ticks": ""
           }
          },
          "scene": {
           "xaxis": {
            "backgroundcolor": "#E5ECF6",
            "gridcolor": "white",
            "gridwidth": 2,
            "linecolor": "white",
            "showbackground": true,
            "ticks": "",
            "zerolinecolor": "white"
           },
           "yaxis": {
            "backgroundcolor": "#E5ECF6",
            "gridcolor": "white",
            "gridwidth": 2,
            "linecolor": "white",
            "showbackground": true,
            "ticks": "",
            "zerolinecolor": "white"
           },
           "zaxis": {
            "backgroundcolor": "#E5ECF6",
            "gridcolor": "white",
            "gridwidth": 2,
            "linecolor": "white",
            "showbackground": true,
            "ticks": "",
            "zerolinecolor": "white"
           }
          },
          "shapedefaults": {
           "line": {
            "color": "#2a3f5f"
           }
          },
          "ternary": {
           "aaxis": {
            "gridcolor": "white",
            "linecolor": "white",
            "ticks": ""
           },
           "baxis": {
            "gridcolor": "white",
            "linecolor": "white",
            "ticks": ""
           },
           "bgcolor": "#E5ECF6",
           "caxis": {
            "gridcolor": "white",
            "linecolor": "white",
            "ticks": ""
           }
          },
          "title": {
           "x": 0.05
          },
          "xaxis": {
           "automargin": true,
           "gridcolor": "white",
           "linecolor": "white",
           "ticks": "",
           "title": {
            "standoff": 15
           },
           "zerolinecolor": "white",
           "zerolinewidth": 2
          },
          "yaxis": {
           "automargin": true,
           "gridcolor": "white",
           "linecolor": "white",
           "ticks": "",
           "title": {
            "standoff": 15
           },
           "zerolinecolor": "white",
           "zerolinewidth": 2
          }
         }
        },
        "title": {
         "text": "Average Film Length By Genre",
         "x": 0.5,
         "xanchor": "center",
         "y": 0.9,
         "yanchor": "top"
        }
       }
      },
      "text/html": "<div>\n        \n        \n            <div id=\"d3126dc9-e361-48fe-8ce4-3ebe19f0301e\" class=\"plotly-graph-div\" style=\"height:525px; width:100%;\"></div>\n            <script type=\"text/javascript\">\n                require([\"plotly\"], function(Plotly) {\n                    window.PLOTLYENV=window.PLOTLYENV || {};\n                    \n                if (document.getElementById(\"d3126dc9-e361-48fe-8ce4-3ebe19f0301e\")) {\n                    Plotly.newPlot(\n                        'd3126dc9-e361-48fe-8ce4-3ebe19f0301e',\n                        [{\"type\": \"bar\", \"x\": [\"History\", \"Biography\", \"Musical\", \"War\", \"Action\", \"Romance\", \"Drama\", \"Game-Show\", \"Sport\", \"Music\", \"Crime\", \"Thriller\", \"Adventure\", \"Fantasy\", \"Comedy\", \"Mystery\", \"Family\", \"Sci-Fi\", \"Western\", \"Horror\", \"Reality-TV\", \"News\", \"Animation\", \"Film-Noir\", \"Documentary\"], \"y\": [117.54866850321396, 114.19692307692307, 109.14314414866901, 107.25966850828729, 106.64158268627126, 104.27715075865162, 104.05949914422123, 104.0, 103.72862823061631, 101.14495530012772, 100.5526240321193, 99.87368226373219, 99.78226489692177, 99.30369547096416, 98.30427295231945, 98.1072535647861, 97.31429344883595, 94.87766263673, 91.82749840865691, 91.22840393761751, 89.5, 88.0, 87.42652152399802, 85.41379310344827, 76.0]}],\n                        {\"template\": {\"data\": {\"bar\": [{\"error_x\": {\"color\": \"#2a3f5f\"}, \"error_y\": {\"color\": \"#2a3f5f\"}, \"marker\": {\"line\": {\"color\": \"#E5ECF6\", \"width\": 0.5}}, \"type\": \"bar\"}], \"barpolar\": [{\"marker\": {\"line\": {\"color\": \"#E5ECF6\", \"width\": 0.5}}, \"type\": \"barpolar\"}], \"carpet\": [{\"aaxis\": {\"endlinecolor\": \"#2a3f5f\", \"gridcolor\": \"white\", \"linecolor\": \"white\", \"minorgridcolor\": \"white\", \"startlinecolor\": \"#2a3f5f\"}, \"baxis\": {\"endlinecolor\": \"#2a3f5f\", \"gridcolor\": \"white\", \"linecolor\": \"white\", \"minorgridcolor\": \"white\", \"startlinecolor\": \"#2a3f5f\"}, \"type\": \"carpet\"}], \"choropleth\": [{\"colorbar\": {\"outlinewidth\": 0, \"ticks\": \"\"}, \"type\": \"choropleth\"}], \"contour\": [{\"colorbar\": {\"outlinewidth\": 0, \"ticks\": \"\"}, \"colorscale\": [[0.0, \"#0d0887\"], [0.1111111111111111, \"#46039f\"], [0.2222222222222222, \"#7201a8\"], [0.3333333333333333, \"#9c179e\"], [0.4444444444444444, \"#bd3786\"], [0.5555555555555556, \"#d8576b\"], [0.6666666666666666, \"#ed7953\"], [0.7777777777777778, \"#fb9f3a\"], [0.8888888888888888, \"#fdca26\"], [1.0, \"#f0f921\"]], \"type\": \"contour\"}], \"contourcarpet\": [{\"colorbar\": {\"outlinewidth\": 0, \"ticks\": \"\"}, \"type\": \"contourcarpet\"}], \"heatmap\": [{\"colorbar\": {\"outlinewidth\": 0, \"ticks\": \"\"}, \"colorscale\": [[0.0, \"#0d0887\"], [0.1111111111111111, \"#46039f\"], [0.2222222222222222, \"#7201a8\"], [0.3333333333333333, \"#9c179e\"], [0.4444444444444444, \"#bd3786\"], [0.5555555555555556, \"#d8576b\"], [0.6666666666666666, \"#ed7953\"], [0.7777777777777778, \"#fb9f3a\"], [0.8888888888888888, \"#fdca26\"], [1.0, \"#f0f921\"]], \"type\": \"heatmap\"}], \"heatmapgl\": [{\"colorbar\": {\"outlinewidth\": 0, \"ticks\": \"\"}, \"colorscale\": [[0.0, \"#0d0887\"], [0.1111111111111111, \"#46039f\"], [0.2222222222222222, \"#7201a8\"], [0.3333333333333333, \"#9c179e\"], [0.4444444444444444, \"#bd3786\"], [0.5555555555555556, \"#d8576b\"], [0.6666666666666666, \"#ed7953\"], [0.7777777777777778, \"#fb9f3a\"], [0.8888888888888888, \"#fdca26\"], [1.0, \"#f0f921\"]], \"type\": \"heatmapgl\"}], \"histogram\": [{\"marker\": {\"colorbar\": {\"outlinewidth\": 0, \"ticks\": \"\"}}, \"type\": \"histogram\"}], \"histogram2d\": [{\"colorbar\": {\"outlinewidth\": 0, \"ticks\": \"\"}, \"colorscale\": [[0.0, \"#0d0887\"], [0.1111111111111111, \"#46039f\"], [0.2222222222222222, \"#7201a8\"], [0.3333333333333333, \"#9c179e\"], [0.4444444444444444, \"#bd3786\"], [0.5555555555555556, \"#d8576b\"], [0.6666666666666666, \"#ed7953\"], [0.7777777777777778, \"#fb9f3a\"], [0.8888888888888888, \"#fdca26\"], [1.0, \"#f0f921\"]], \"type\": \"histogram2d\"}], \"histogram2dcontour\": [{\"colorbar\": {\"outlinewidth\": 0, \"ticks\": \"\"}, \"colorscale\": [[0.0, \"#0d0887\"], [0.1111111111111111, \"#46039f\"], [0.2222222222222222, \"#7201a8\"], [0.3333333333333333, \"#9c179e\"], [0.4444444444444444, \"#bd3786\"], [0.5555555555555556, \"#d8576b\"], [0.6666666666666666, \"#ed7953\"], [0.7777777777777778, \"#fb9f3a\"], [0.8888888888888888, \"#fdca26\"], [1.0, \"#f0f921\"]], \"type\": \"histogram2dcontour\"}], \"mesh3d\": [{\"colorbar\": {\"outlinewidth\": 0, \"ticks\": \"\"}, \"type\": \"mesh3d\"}], \"parcoords\": [{\"line\": {\"colorbar\": {\"outlinewidth\": 0, \"ticks\": \"\"}}, \"type\": \"parcoords\"}], \"pie\": [{\"automargin\": true, \"type\": \"pie\"}], \"scatter\": [{\"marker\": {\"colorbar\": {\"outlinewidth\": 0, \"ticks\": \"\"}}, \"type\": \"scatter\"}], \"scatter3d\": [{\"line\": {\"colorbar\": {\"outlinewidth\": 0, \"ticks\": \"\"}}, \"marker\": {\"colorbar\": {\"outlinewidth\": 0, \"ticks\": \"\"}}, \"type\": \"scatter3d\"}], \"scattercarpet\": [{\"marker\": {\"colorbar\": {\"outlinewidth\": 0, \"ticks\": \"\"}}, \"type\": \"scattercarpet\"}], \"scattergeo\": [{\"marker\": {\"colorbar\": {\"outlinewidth\": 0, \"ticks\": \"\"}}, \"type\": \"scattergeo\"}], \"scattergl\": [{\"marker\": {\"colorbar\": {\"outlinewidth\": 0, \"ticks\": \"\"}}, \"type\": \"scattergl\"}], \"scattermapbox\": [{\"marker\": {\"colorbar\": {\"outlinewidth\": 0, \"ticks\": \"\"}}, \"type\": \"scattermapbox\"}], \"scatterpolar\": [{\"marker\": {\"colorbar\": {\"outlinewidth\": 0, \"ticks\": \"\"}}, \"type\": \"scatterpolar\"}], \"scatterpolargl\": [{\"marker\": {\"colorbar\": {\"outlinewidth\": 0, \"ticks\": \"\"}}, \"type\": \"scatterpolargl\"}], \"scatterternary\": [{\"marker\": {\"colorbar\": {\"outlinewidth\": 0, \"ticks\": \"\"}}, \"type\": \"scatterternary\"}], \"surface\": [{\"colorbar\": {\"outlinewidth\": 0, \"ticks\": \"\"}, \"colorscale\": [[0.0, \"#0d0887\"], [0.1111111111111111, \"#46039f\"], [0.2222222222222222, \"#7201a8\"], [0.3333333333333333, \"#9c179e\"], [0.4444444444444444, \"#bd3786\"], [0.5555555555555556, \"#d8576b\"], [0.6666666666666666, \"#ed7953\"], [0.7777777777777778, \"#fb9f3a\"], [0.8888888888888888, \"#fdca26\"], [1.0, \"#f0f921\"]], \"type\": \"surface\"}], \"table\": [{\"cells\": {\"fill\": {\"color\": \"#EBF0F8\"}, \"line\": {\"color\": \"white\"}}, \"header\": {\"fill\": {\"color\": \"#C8D4E3\"}, \"line\": {\"color\": \"white\"}}, \"type\": \"table\"}]}, \"layout\": {\"annotationdefaults\": {\"arrowcolor\": \"#2a3f5f\", \"arrowhead\": 0, \"arrowwidth\": 1}, \"coloraxis\": {\"colorbar\": {\"outlinewidth\": 0, \"ticks\": \"\"}}, \"colorscale\": {\"diverging\": [[0, \"#8e0152\"], [0.1, \"#c51b7d\"], [0.2, \"#de77ae\"], [0.3, \"#f1b6da\"], [0.4, \"#fde0ef\"], [0.5, \"#f7f7f7\"], [0.6, \"#e6f5d0\"], [0.7, \"#b8e186\"], [0.8, \"#7fbc41\"], [0.9, \"#4d9221\"], [1, \"#276419\"]], \"sequential\": [[0.0, \"#0d0887\"], [0.1111111111111111, \"#46039f\"], [0.2222222222222222, \"#7201a8\"], [0.3333333333333333, \"#9c179e\"], [0.4444444444444444, \"#bd3786\"], [0.5555555555555556, \"#d8576b\"], [0.6666666666666666, \"#ed7953\"], [0.7777777777777778, \"#fb9f3a\"], [0.8888888888888888, \"#fdca26\"], [1.0, \"#f0f921\"]], \"sequentialminus\": [[0.0, \"#0d0887\"], [0.1111111111111111, \"#46039f\"], [0.2222222222222222, \"#7201a8\"], [0.3333333333333333, \"#9c179e\"], [0.4444444444444444, \"#bd3786\"], [0.5555555555555556, \"#d8576b\"], [0.6666666666666666, \"#ed7953\"], [0.7777777777777778, \"#fb9f3a\"], [0.8888888888888888, \"#fdca26\"], [1.0, \"#f0f921\"]]}, \"colorway\": [\"#636efa\", \"#EF553B\", \"#00cc96\", \"#ab63fa\", \"#FFA15A\", \"#19d3f3\", \"#FF6692\", \"#B6E880\", \"#FF97FF\", \"#FECB52\"], \"font\": {\"color\": \"#2a3f5f\"}, \"geo\": {\"bgcolor\": \"white\", \"lakecolor\": \"white\", \"landcolor\": \"#E5ECF6\", \"showlakes\": true, \"showland\": true, \"subunitcolor\": \"white\"}, \"hoverlabel\": {\"align\": \"left\"}, \"hovermode\": \"closest\", \"mapbox\": {\"style\": \"light\"}, \"paper_bgcolor\": \"white\", \"plot_bgcolor\": \"#E5ECF6\", \"polar\": {\"angularaxis\": {\"gridcolor\": \"white\", \"linecolor\": \"white\", \"ticks\": \"\"}, \"bgcolor\": \"#E5ECF6\", \"radialaxis\": {\"gridcolor\": \"white\", \"linecolor\": \"white\", \"ticks\": \"\"}}, \"scene\": {\"xaxis\": {\"backgroundcolor\": \"#E5ECF6\", \"gridcolor\": \"white\", \"gridwidth\": 2, \"linecolor\": \"white\", \"showbackground\": true, \"ticks\": \"\", \"zerolinecolor\": \"white\"}, \"yaxis\": {\"backgroundcolor\": \"#E5ECF6\", \"gridcolor\": \"white\", \"gridwidth\": 2, \"linecolor\": \"white\", \"showbackground\": true, \"ticks\": \"\", \"zerolinecolor\": \"white\"}, \"zaxis\": {\"backgroundcolor\": \"#E5ECF6\", \"gridcolor\": \"white\", \"gridwidth\": 2, \"linecolor\": \"white\", \"showbackground\": true, \"ticks\": \"\", \"zerolinecolor\": \"white\"}}, \"shapedefaults\": {\"line\": {\"color\": \"#2a3f5f\"}}, \"ternary\": {\"aaxis\": {\"gridcolor\": \"white\", \"linecolor\": \"white\", \"ticks\": \"\"}, \"baxis\": {\"gridcolor\": \"white\", \"linecolor\": \"white\", \"ticks\": \"\"}, \"bgcolor\": \"#E5ECF6\", \"caxis\": {\"gridcolor\": \"white\", \"linecolor\": \"white\", \"ticks\": \"\"}}, \"title\": {\"x\": 0.05}, \"xaxis\": {\"automargin\": true, \"gridcolor\": \"white\", \"linecolor\": \"white\", \"ticks\": \"\", \"title\": {\"standoff\": 15}, \"zerolinecolor\": \"white\", \"zerolinewidth\": 2}, \"yaxis\": {\"automargin\": true, \"gridcolor\": \"white\", \"linecolor\": \"white\", \"ticks\": \"\", \"title\": {\"standoff\": 15}, \"zerolinecolor\": \"white\", \"zerolinewidth\": 2}}}, \"title\": {\"text\": \"Average Film Length By Genre\", \"x\": 0.5, \"xanchor\": \"center\", \"y\": 0.9, \"yanchor\": \"top\"}},\n                        {\"responsive\": true}\n                    ).then(function(){\n                            \nvar gd = document.getElementById('d3126dc9-e361-48fe-8ce4-3ebe19f0301e');\nvar x = new MutationObserver(function (mutations, observer) {{\n        var display = window.getComputedStyle(gd).display;\n        if (!display || display === 'none') {{\n            console.log([gd, 'removed!']);\n            Plotly.purge(gd);\n            observer.disconnect();\n        }}\n}});\n\n// Listen for the removal of the full notebook cells\nvar notebookContainer = gd.closest('#notebook-container');\nif (notebookContainer) {{\n    x.observe(notebookContainer, {childList: true});\n}}\n\n// Listen for the clearing of the current output cell\nvar outputEl = gd.closest('.output');\nif (outputEl) {{\n    x.observe(outputEl, {childList: true});\n}}\n\n                        })\n                };\n                });\n            </script>\n        </div>"
     },
     "metadata": {},
     "output_type": "display_data"
    }
   ],
   "source": [
    "# remove inappropriate genres lol\n",
    "grouped_genre_df = grouped_genre_df.set_index('genre').drop('Adult').reset_index()\n",
    "grouped_genre_df = grouped_genre_df.sort_values(by='duration', ascending=False)\n",
    "\n",
    "plotly_title['text'] = 'Average Film Length By Genre'\n",
    "\n",
    "fig = go.Figure(data=go.Bar(\n",
    "    x=grouped_genre_df['genre']\n",
    "    , y=grouped_genre_df['duration']\n",
    "))\n",
    "fig.update_layout(\n",
    "    title=plotly_title\n",
    ")\n",
    "\n",
    "fig.show()"
   ],
   "metadata": {
    "collapsed": false,
    "pycharm": {
     "name": "#%%\n"
    }
   }
  },
  {
   "cell_type": "code",
   "execution_count": null,
   "outputs": [],
   "source": [],
   "metadata": {
    "collapsed": false,
    "pycharm": {
     "name": "#%%\n"
    }
   }
  },
  {
   "cell_type": "code",
   "execution_count": null,
   "outputs": [],
   "source": [],
   "metadata": {
    "collapsed": false,
    "pycharm": {
     "name": "#%%\n"
    }
   }
  }
 ],
 "metadata": {
  "kernelspec": {
   "name": "deeplearning",
   "language": "python",
   "display_name": "DeepLearning"
  },
  "language_info": {
   "codemirror_mode": {
    "name": "ipython",
    "version": 2
   },
   "file_extension": ".py",
   "mimetype": "text/x-python",
   "name": "python",
   "nbconvert_exporter": "python",
   "pygments_lexer": "ipython2",
   "version": "2.7.6"
  }
 },
 "nbformat": 4,
 "nbformat_minor": 0
}